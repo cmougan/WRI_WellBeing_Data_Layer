{
  "nbformat": 4,
  "nbformat_minor": 0,
  "metadata": {
    "colab": {
      "name": "(DSSG/WRI) DHS Analysis .ipynb",
      "provenance": [],
      "toc_visible": true
    },
    "kernelspec": {
      "name": "python3",
      "display_name": "Python 3"
    }
  },
  "cells": [
    {
      "cell_type": "code",
      "metadata": {
        "colab": {
          "base_uri": "https://localhost:8080/",
          "height": 137
        },
        "id": "DTGSvQn513aV",
        "outputId": "74810ba8-a2de-49e6-f76f-767ef568c8dd"
      },
      "source": [
        "# ignore\n",
        "# Was trying to read raw data stored in sav files\n",
        "'''\n",
        "!pip install pyreadstat\n",
        "import pandas as pd\n",
        "df = pd.read_spss('/content/drive/MyDrive/WRI\\DSSG - EDA/House Member Recode 2015.SAV')\n",
        "#df = pd.read_spss('C:\\\\Users\\\\rohaan.nadeem\\\\Desktop\\\\House Member Recode 2015.SAV')\n",
        "import pyreadstat\n",
        "fpath = '/content/drive/MyDrive/WRI\\DSSG - EDA/House Member Recode 2015.SAV'\n",
        "reader = pyreadstat.read_file_in_chunks(pyreadstat.read_sas7bdat, fpath, chunksize= 10000)\n",
        "\n",
        "for df, meta in reader:\n",
        "  print(df) # df will contain 10K rows\n",
        "\n",
        "!pip install savReaderWriter\n",
        "import savReaderWriter as spss\n",
        "import pandas as pd\n",
        "dataFile = '/content/drive/MyDrive/WRI\\DSSG - EDA/House Member Recode 2015.SAV'\n",
        "raw_data = spss.SavReader(dataFile, returnHeader = True) # This is fast\n",
        "data = pd.DataFrame(raw_data)\n",
        "'''"
      ],
      "execution_count": 2,
      "outputs": [
        {
          "output_type": "execute_result",
          "data": {
            "application/vnd.google.colaboratory.intrinsic+json": {
              "type": "string"
            },
            "text/plain": [
              "\"\\n!pip install pyreadstat\\nimport pandas as pd\\ndf = pd.read_spss('/content/drive/MyDrive/WRI\\\\DSSG - EDA/House Member Recode 2015.SAV')\\n#df = pd.read_spss('C:\\\\Users\\\\rohaan.nadeem\\\\Desktop\\\\House Member Recode 2015.SAV')\\nimport pyreadstat\\nfpath = '/content/drive/MyDrive/WRI\\\\DSSG - EDA/House Member Recode 2015.SAV'\\nreader = pyreadstat.read_file_in_chunks(pyreadstat.read_sas7bdat, fpath, chunksize= 10000)\\n\\nfor df, meta in reader:\\n  print(df) # df will contain 10K rows\\n\\n!pip install savReaderWriter\\nimport savReaderWriter as spss\\nimport pandas as pd\\ndataFile = '/content/drive/MyDrive/WRI\\\\DSSG - EDA/House Member Recode 2015.SAV'\\nraw_data = spss.SavReader(dataFile, returnHeader = True) # This is fast\\ndata = pd.DataFrame(raw_data)\\n\""
            ]
          },
          "metadata": {
            "tags": []
          },
          "execution_count": 2
        }
      ]
    },
    {
      "cell_type": "markdown",
      "metadata": {
        "id": "kBOU4GnV33Yp"
      },
      "source": [
        "External Libraries"
      ]
    },
    {
      "cell_type": "code",
      "metadata": {
        "id": "Sni866Rc33Gb"
      },
      "source": [
        "import numpy as np # for linear algebra\n",
        "import pandas as pd # for dataframes\n",
        "import matplotlib.pyplot as plt # for data visiualization\n",
        "import seaborn as sns # for data visualization\n",
        "from sklearn import preprocessing # for one hot encoding\n",
        "from sklearn.pipeline import Pipeline # for pipelines\n",
        "from sklearn.model_selection import train_test_split # for tts\n",
        "from sklearn import svm # classification model\n",
        "from sklearn.metrics import mean_absolute_error, jaccard_score, f1_score, log_loss, accuracy_score # metrics\n",
        "from sklearn import metrics # for accuracy score metric\n",
        "from sklearn.tree import DecisionTreeClassifier # Decision Trees\n",
        "from tensorflow import keras # for deep learning\n",
        "from tensorflow.keras import layers # for deep learning\n",
        "%matplotlib inline "
      ],
      "execution_count": 3,
      "outputs": []
    },
    {
      "cell_type": "markdown",
      "metadata": {
        "id": "YL5U9R2a4lxw"
      },
      "source": [
        "Read data"
      ]
    },
    {
      "cell_type": "code",
      "metadata": {
        "id": "BPZBPlJGZ5ei",
        "colab": {
          "base_uri": "https://localhost:8080/"
        },
        "outputId": "fdb077c6-3052-48dc-a18c-e752256791a8"
      },
      "source": [
        "df = pd.read_csv('/content/drive/MyDrive/WRI\\DSSG - EDA/DHS-PROCESSED-CLEAN.csv',\n",
        "                 #index_col = 'DHSCLUST'\t\n",
        "                 )\n",
        "df.shape"
      ],
      "execution_count": 4,
      "outputs": [
        {
          "output_type": "execute_result",
          "data": {
            "text/plain": [
              "(28385, 16)"
            ]
          },
          "metadata": {
            "tags": []
          },
          "execution_count": 4
        }
      ]
    },
    {
      "cell_type": "code",
      "metadata": {
        "id": "k4vGCmPaabVS",
        "colab": {
          "base_uri": "https://localhost:8080/",
          "height": 411
        },
        "outputId": "35c7c230-abe2-4f87-8cb1-128718522975"
      },
      "source": [
        "# glimpse data\n",
        "df.head()"
      ],
      "execution_count": 5,
      "outputs": [
        {
          "output_type": "execute_result",
          "data": {
            "text/html": [
              "<div>\n",
              "<style scoped>\n",
              "    .dataframe tbody tr th:only-of-type {\n",
              "        vertical-align: middle;\n",
              "    }\n",
              "\n",
              "    .dataframe tbody tr th {\n",
              "        vertical-align: top;\n",
              "    }\n",
              "\n",
              "    .dataframe thead th {\n",
              "        text-align: right;\n",
              "    }\n",
              "</style>\n",
              "<table border=\"1\" class=\"dataframe\">\n",
              "  <thead>\n",
              "    <tr style=\"text-align: right;\">\n",
              "      <th></th>\n",
              "      <th>DHSCLUST</th>\n",
              "      <th>Wealth</th>\n",
              "      <th>Wealth Index</th>\n",
              "      <th>Toilet Facility</th>\n",
              "      <th>Roof Material</th>\n",
              "      <th>Electricity</th>\n",
              "      <th>Cooking Fuel</th>\n",
              "      <th>Drinking Water</th>\n",
              "      <th>URBAN_RURA</th>\n",
              "      <th>DHSREGNA</th>\n",
              "      <th>ADM1NAME</th>\n",
              "      <th>LATNUM</th>\n",
              "      <th>LONGNUM</th>\n",
              "      <th>geometry</th>\n",
              "      <th>UN_Population_Density_2015</th>\n",
              "      <th>Population_Density</th>\n",
              "    </tr>\n",
              "  </thead>\n",
              "  <tbody>\n",
              "    <tr>\n",
              "      <th>0</th>\n",
              "      <td>10001</td>\n",
              "      <td>richer</td>\n",
              "      <td>107648.636364</td>\n",
              "      <td>Flush</td>\n",
              "      <td>Metal</td>\n",
              "      <td>yes</td>\n",
              "      <td>Petroleum</td>\n",
              "      <td>Piped Water</td>\n",
              "      <td>U</td>\n",
              "      <td>South Andaman</td>\n",
              "      <td>Andaman &amp; Nicobar Islands</td>\n",
              "      <td>11.670645</td>\n",
              "      <td>92.745799</td>\n",
              "      <td>POINT (92.74579928369999 11.6706448114)</td>\n",
              "      <td>371.654433</td>\n",
              "      <td>Average</td>\n",
              "    </tr>\n",
              "    <tr>\n",
              "      <th>1</th>\n",
              "      <td>10002</td>\n",
              "      <td>middle</td>\n",
              "      <td>25279.409091</td>\n",
              "      <td>Flush</td>\n",
              "      <td>Metal</td>\n",
              "      <td>yes</td>\n",
              "      <td>Petroleum</td>\n",
              "      <td>Piped Water</td>\n",
              "      <td>R</td>\n",
              "      <td>Nicobars</td>\n",
              "      <td>Andaman &amp; Nicobar Islands</td>\n",
              "      <td>9.143844</td>\n",
              "      <td>92.826752</td>\n",
              "      <td>POINT (92.8267516352 9.143843815149999)</td>\n",
              "      <td>129.322150</td>\n",
              "      <td>Very Low</td>\n",
              "    </tr>\n",
              "    <tr>\n",
              "      <th>2</th>\n",
              "      <td>10003</td>\n",
              "      <td>middle</td>\n",
              "      <td>4725.681818</td>\n",
              "      <td>Flush</td>\n",
              "      <td>Metal</td>\n",
              "      <td>yes</td>\n",
              "      <td>Wood/Straw</td>\n",
              "      <td>Piped Water</td>\n",
              "      <td>R</td>\n",
              "      <td>Nicobars</td>\n",
              "      <td>Andaman &amp; Nicobar Islands</td>\n",
              "      <td>9.212246</td>\n",
              "      <td>92.753633</td>\n",
              "      <td>POINT (92.75363284469999 9.212245586050001)</td>\n",
              "      <td>129.322140</td>\n",
              "      <td>Very Low</td>\n",
              "    </tr>\n",
              "    <tr>\n",
              "      <th>3</th>\n",
              "      <td>10004</td>\n",
              "      <td>middle</td>\n",
              "      <td>17484.909091</td>\n",
              "      <td>Flush</td>\n",
              "      <td>Metal</td>\n",
              "      <td>yes</td>\n",
              "      <td>Wood/Straw</td>\n",
              "      <td>Piped Water</td>\n",
              "      <td>R</td>\n",
              "      <td>Nicobars</td>\n",
              "      <td>Andaman &amp; Nicobar Islands</td>\n",
              "      <td>9.165413</td>\n",
              "      <td>92.742696</td>\n",
              "      <td>POINT (92.74269589719999 9.165413484529999)</td>\n",
              "      <td>129.322139</td>\n",
              "      <td>Very Low</td>\n",
              "    </tr>\n",
              "    <tr>\n",
              "      <th>4</th>\n",
              "      <td>10005</td>\n",
              "      <td>middle</td>\n",
              "      <td>25083.454545</td>\n",
              "      <td>Flush</td>\n",
              "      <td>Metal</td>\n",
              "      <td>yes</td>\n",
              "      <td>Petroleum</td>\n",
              "      <td>Piped Water</td>\n",
              "      <td>R</td>\n",
              "      <td>Nicobars</td>\n",
              "      <td>Andaman &amp; Nicobar Islands</td>\n",
              "      <td>8.307356</td>\n",
              "      <td>93.093792</td>\n",
              "      <td>POINT (93.0937924407 8.30735625773)</td>\n",
              "      <td>20.672477</td>\n",
              "      <td>Very Low</td>\n",
              "    </tr>\n",
              "  </tbody>\n",
              "</table>\n",
              "</div>"
            ],
            "text/plain": [
              "   DHSCLUST  Wealth  ...  UN_Population_Density_2015 Population_Density\n",
              "0     10001  richer  ...                  371.654433            Average\n",
              "1     10002  middle  ...                  129.322150           Very Low\n",
              "2     10003  middle  ...                  129.322140           Very Low\n",
              "3     10004  middle  ...                  129.322139           Very Low\n",
              "4     10005  middle  ...                   20.672477           Very Low\n",
              "\n",
              "[5 rows x 16 columns]"
            ]
          },
          "metadata": {
            "tags": []
          },
          "execution_count": 5
        }
      ]
    },
    {
      "cell_type": "markdown",
      "metadata": {
        "id": "ZCRRoMqG5IaW"
      },
      "source": [
        "Since wealth is the target, need to ensure the data is balanced."
      ]
    },
    {
      "cell_type": "markdown",
      "metadata": {
        "id": "w-KNMxVEH-Os"
      },
      "source": [
        "## Data Balancing"
      ]
    },
    {
      "cell_type": "code",
      "metadata": {
        "colab": {
          "base_uri": "https://localhost:8080/",
          "height": 340
        },
        "id": "bsTdTYOA8KOv",
        "outputId": "1c251626-03a4-4976-83e2-4888f7560798"
      },
      "source": [
        "df.Wealth.value_counts().plot.bar(title = 'Distribution of Wealth Classes',\n",
        "                                  xlabel = 'Wealth Class',\n",
        "                                  ylabel = 'Number of Records')"
      ],
      "execution_count": 6,
      "outputs": [
        {
          "output_type": "execute_result",
          "data": {
            "text/plain": [
              "<matplotlib.axes._subplots.AxesSubplot at 0x7fe6d4355c90>"
            ]
          },
          "metadata": {
            "tags": []
          },
          "execution_count": 6
        },
        {
          "output_type": "display_data",
          "data": {
            "image/png": "[encoded data removed]",
            "text/plain": [
              "<Figure size 432x288 with 1 Axes>"
            ]
          },
          "metadata": {
            "tags": [],
            "needs_background": "light"
          }
        }
      ]
    },
    {
      "cell_type": "code",
      "metadata": {
        "colab": {
          "base_uri": "https://localhost:8080/",
          "height": 374
        },
        "id": "EB33vNBxV6qW",
        "outputId": "bfa1a46e-0af8-4c3d-d358-da3dc53eec5c"
      },
      "source": [
        "#Using matplotlib\n",
        "pie, ax = plt.subplots(figsize=[10,6])\n",
        "labels = df.Wealth.unique()\n",
        "plt.pie(x=df.Wealth.value_counts(), autopct=\"%.1f%%\", labels=labels, explode=[0.05]*5, pctdistance=0.5)\n",
        "plt.title(\"Wealth Label Distribution\", fontsize=14);\n",
        "#pie.savefig(\"DeliveryPieChart.png\")"
      ],
      "execution_count": 15,
      "outputs": [
        {
          "output_type": "display_data",
          "data": {
            "image/png": "[encoded data removed]",
            "text/plain": [
              "<Figure size 720x432 with 1 Axes>"
            ]
          },
          "metadata": {
            "tags": []
          }
        }
      ]
    },
    {
      "cell_type": "code",
      "metadata": {
        "colab": {
          "base_uri": "https://localhost:8080/",
          "height": 340
        },
        "id": "EUIIXU398lok",
        "outputId": "5554408d-5290-41f1-e598-381b027ab917"
      },
      "source": [
        "wealth_records = df.Wealth.value_counts()\n",
        "wealth_records_unbalance = wealth_records - df.Wealth.value_counts().mean()\n",
        "wealth_records_unbalance.plot.bar( title = 'Class Records Imbalance',\n",
        "                                  xlabel = 'Wealth Class',\n",
        "                                  ylabel = 'Variance (Number of Records)')"
      ],
      "execution_count": 10,
      "outputs": [
        {
          "output_type": "execute_result",
          "data": {
            "text/plain": [
              "<matplotlib.axes._subplots.AxesSubplot at 0x7fe6d3b53110>"
            ]
          },
          "metadata": {
            "tags": []
          },
          "execution_count": 10
        },
        {
          "output_type": "display_data",
          "data": {
            "image/png": "[encoded data removed]",
            "text/plain": [
              "<Figure size 432x288 with 1 Axes>"
            ]
          },
          "metadata": {
            "tags": [],
            "needs_background": "light"
          }
        }
      ]
    },
    {
      "cell_type": "code",
      "metadata": {
        "colab": {
          "base_uri": "https://localhost:8080/"
        },
        "id": "ujeEoRIC_Osp",
        "outputId": "fd538bd9-bc06-49d3-d79a-6ab94f378cda"
      },
      "source": [
        "print('Number of Poorest class records: ', wealth_records[0])\n",
        "print('Number of Richer class records: ', wealth_records[-1])\n",
        "print('Poorest to Richer Ratio: ', round(wealth_records[0]/wealth_records[-1],3))"
      ],
      "execution_count": 11,
      "outputs": [
        {
          "output_type": "stream",
          "text": [
            "Number of Poorest class records:  7472\n",
            "Number of Richer class records:  4724\n",
            "Poorest to Richer Ratio:  1.582\n"
          ],
          "name": "stdout"
        }
      ]
    },
    {
      "cell_type": "markdown",
      "metadata": {
        "id": "c8aQ8die_7aM"
      },
      "source": [
        "Looks like data is highly unbalanced towards the poorest class.\n",
        "\n",
        "Removing bias via random sampling"
      ]
    },
    {
      "cell_type": "code",
      "metadata": {
        "id": "McPHvyZn_MsD"
      },
      "source": [
        "'''# undersampling poorest class\n",
        "delta = wealth_records[0] - wealth_records[-1]\n",
        "to_remove = np.random.choice(df[df['Wealth'] == 'poorest'].index, delta ,replace=False)\n",
        "df.drop(to_remove, inplace = True)\n",
        "\n",
        "# undersampling poorer class\n",
        "delta = wealth_records[1] - wealth_records[-1]\n",
        "to_remove = np.random.choice(df[df['Wealth'] == 'poorer'].index, delta ,replace=False)\n",
        "df.drop(to_remove, inplace = True)\n",
        "\n",
        "# undersampling richest class\n",
        "delta = wealth_records[2] - wealth_records[-1]\n",
        "to_remove = np.random.choice(df[df['Wealth'] == 'richest'].index, delta ,replace=False)\n",
        "df.drop(to_remove, inplace = True)\n",
        "\n",
        "# undersampling poorer class\n",
        "delta = wealth_records[3] - wealth_records[-1]\n",
        "to_remove = np.random.choice(df[df['Wealth'] == 'middle'].index, delta ,replace=False)\n",
        "df.drop(to_remove, inplace = True)\n",
        "\n",
        "df.Wealth.value_counts().plot.bar(title = 'Distribution of Wealth Classes (random undersampled)',\n",
        "                                  xlabel = 'Wealth Class',\n",
        "                                  ylabel = 'Number of Records')\n",
        "\n",
        "'''"
      ],
      "execution_count": null,
      "outputs": []
    },
    {
      "cell_type": "markdown",
      "metadata": {
        "id": "nhTJza6WH1__"
      },
      "source": [
        "## EDA"
      ]
    },
    {
      "cell_type": "markdown",
      "metadata": {
        "id": "fugfxt7SAF7u"
      },
      "source": [
        "For proper visualization, understanding data types"
      ]
    },
    {
      "cell_type": "code",
      "metadata": {
        "id": "pc5jTaUx4mGU"
      },
      "source": [
        "df.dtypes"
      ],
      "execution_count": null,
      "outputs": []
    },
    {
      "cell_type": "markdown",
      "metadata": {
        "id": "vtMudzWp5MiP"
      },
      "source": [
        "#### Quantitative Analysis"
      ]
    },
    {
      "cell_type": "code",
      "metadata": {
        "id": "GCSsvdbhHyJW"
      },
      "source": [
        "df.describe()"
      ],
      "execution_count": null,
      "outputs": []
    },
    {
      "cell_type": "markdown",
      "metadata": {
        "id": "ZweasTee2xC3"
      },
      "source": [
        "Questions:\n",
        "1. Does Wealth Index has outliers? (Box and whiskers will tell)."
      ]
    },
    {
      "cell_type": "code",
      "metadata": {
        "id": "MntzY5ps3CBm"
      },
      "source": [
        "df.boxplot(column = ['Wealth Index'])"
      ],
      "execution_count": null,
      "outputs": []
    },
    {
      "cell_type": "markdown",
      "metadata": {
        "id": "loiyWa_04DVE"
      },
      "source": [
        "Looks okay. \n",
        "\n",
        "What about correlations?"
      ]
    },
    {
      "cell_type": "code",
      "metadata": {
        "id": "fL_2Z0nzAl_k"
      },
      "source": [
        "df.corr()"
      ],
      "execution_count": null,
      "outputs": []
    },
    {
      "cell_type": "markdown",
      "metadata": {
        "id": "xIy37sL0BDOD"
      },
      "source": [
        "*   Latitude and Longitude are irrelevant. \n",
        "*   Population density has a weak correlation with Wealth Index. Makes sense. \n"
      ]
    },
    {
      "cell_type": "markdown",
      "metadata": {
        "id": "fPyaIfi-5nt5"
      },
      "source": [
        "#### Descriptive Analysis"
      ]
    },
    {
      "cell_type": "code",
      "metadata": {
        "id": "g7HnU03t5aGS"
      },
      "source": [
        "df.describe(include = 'object')"
      ],
      "execution_count": null,
      "outputs": []
    },
    {
      "cell_type": "markdown",
      "metadata": {
        "id": "ejJ9cJRU532h"
      },
      "source": [
        "Observations:\n",
        "*   No missing data\n",
        "\n",
        "Questions:\n",
        "\n",
        "*   Relation between Toilet Facilitty & Wealth\n",
        "*   Relation between Roof Material & Wealth\n",
        "*   Relation between Electricity & Wealth\n",
        "*   Relation between Drinking Water & Wealth\n",
        "*   Relation between Drinking Population Density & Wealth\n",
        "\n",
        "The columns I think will not help:\n",
        "\n",
        "*   ~Urban/Rural~\n",
        "*   DHSREGNA\t\n",
        "*   ADM1NAME\t\n",
        "*   geometry\n",
        "*   LATNUM\n",
        "*   LONGNUM\n",
        "\n",
        "\n",
        "\n",
        "\n",
        "\n",
        "\n"
      ]
    },
    {
      "cell_type": "code",
      "metadata": {
        "id": "sXfbh2hb3IBJ"
      },
      "source": [
        "df.drop(columns = ['DHSREGNA', 'ADM1NAME', 'LATNUM', 'LONGNUM', 'geometry'],\n",
        "        inplace = True)\n",
        "df.shape"
      ],
      "execution_count": null,
      "outputs": []
    },
    {
      "cell_type": "code",
      "metadata": {
        "id": "4s8vQ1PH_ABv"
      },
      "source": [
        "df.columns"
      ],
      "execution_count": null,
      "outputs": []
    },
    {
      "cell_type": "markdown",
      "metadata": {
        "id": "1TSi0FsuOoro"
      },
      "source": [
        "##### Without Rural/Urban Flag"
      ]
    },
    {
      "cell_type": "markdown",
      "metadata": {
        "id": "NlHDtNICCTfh"
      },
      "source": [
        "Relation between Toilet Facilitty & Wealth"
      ]
    },
    {
      "cell_type": "code",
      "metadata": {
        "id": "9meQ4TTKCMPw"
      },
      "source": [
        "sns.set(rc={'figure.figsize':(20, 10)})\n",
        "sns.boxplot(x=\"Toilet Facility\", \n",
        "            y=\"Wealth Index\", \n",
        "            data=df)"
      ],
      "execution_count": null,
      "outputs": []
    },
    {
      "cell_type": "markdown",
      "metadata": {
        "id": "xTZGDOakCtuO"
      },
      "source": [
        "Relation between Roof Material & Wealth"
      ]
    },
    {
      "cell_type": "code",
      "metadata": {
        "id": "D16OmQDECtOH"
      },
      "source": [
        "sns.set(rc={'figure.figsize':(20, 10)})\n",
        "\n",
        "sns.boxplot(x=\"Roof Material\", \n",
        "            y=\"Wealth Index\",  \n",
        "            data=df)"
      ],
      "execution_count": null,
      "outputs": []
    },
    {
      "cell_type": "markdown",
      "metadata": {
        "id": "MmpaVtgGECTr"
      },
      "source": [
        "Relation between Electricity & Wealth"
      ]
    },
    {
      "cell_type": "code",
      "metadata": {
        "id": "BYIl9_YOCkN5"
      },
      "source": [
        "sns.set(rc={'figure.figsize':(20, 10)})\n",
        "\n",
        "sns.boxplot(x=\"Electricity\", \n",
        "            y=\"Wealth Index\",  \n",
        "            data=df)"
      ],
      "execution_count": null,
      "outputs": []
    },
    {
      "cell_type": "markdown",
      "metadata": {
        "id": "Oj5sbYnkEsxR"
      },
      "source": [
        "Relation between Drinking Water & Wealth"
      ]
    },
    {
      "cell_type": "code",
      "metadata": {
        "id": "mws9JTDXC2yd"
      },
      "source": [
        "sns.set(rc={'figure.figsize':(20, 10)})\n",
        "\n",
        "sns.boxplot(x=\"Drinking Water\", \n",
        "            y=\"Wealth Index\",  \n",
        "            data=df)"
      ],
      "execution_count": null,
      "outputs": []
    },
    {
      "cell_type": "markdown",
      "metadata": {
        "id": "gxIWihpGFKYZ"
      },
      "source": [
        "I think differentiating between Rurual and Urban will help."
      ]
    },
    {
      "cell_type": "markdown",
      "metadata": {
        "id": "fFDiZDdZFXco"
      },
      "source": [
        "Relation between Drinking Population Density & Wealth"
      ]
    },
    {
      "cell_type": "code",
      "metadata": {
        "id": "6NWFpYboE0CT"
      },
      "source": [
        "sns.set(rc={'figure.figsize':(20, 10)})\n",
        "\n",
        "sns.boxplot(x=\"Population_Density\", \n",
        "            y=\"Wealth Index\",  \n",
        "            data=df)"
      ],
      "execution_count": null,
      "outputs": []
    },
    {
      "cell_type": "markdown",
      "metadata": {
        "id": "EGwDXslaOtRH"
      },
      "source": [
        "##### Grouped by Rural/Urban"
      ]
    },
    {
      "cell_type": "markdown",
      "metadata": {
        "id": "4V1sAzyrV_av"
      },
      "source": [
        "Relation between Toilet Facilitty & Wealth"
      ]
    },
    {
      "cell_type": "code",
      "metadata": {
        "id": "W57IdDPoV_bC"
      },
      "source": [
        "sns.boxplot(x=\"Toilet Facility\", \n",
        "            y=\"Wealth Index\",\n",
        "            hue='URBAN_RURA', \n",
        "            data=df)"
      ],
      "execution_count": null,
      "outputs": []
    },
    {
      "cell_type": "markdown",
      "metadata": {
        "id": "x3m908c1V_bE"
      },
      "source": [
        "Relation between Roof Material & Wealth"
      ]
    },
    {
      "cell_type": "code",
      "metadata": {
        "id": "diDFsRUSV_bF"
      },
      "source": [
        "sns.set(rc={'figure.figsize':(20, 10)})\n",
        "\n",
        "sns.boxplot(x=\"Roof Material\", \n",
        "            y=\"Wealth Index\",\n",
        "            hue='URBAN_RURA',  \n",
        "            data=df)"
      ],
      "execution_count": null,
      "outputs": []
    },
    {
      "cell_type": "markdown",
      "metadata": {
        "id": "XJ8kGapTV_bF"
      },
      "source": [
        "Relation between Electricity & Wealth"
      ]
    },
    {
      "cell_type": "code",
      "metadata": {
        "id": "9kx44PhLV_bG"
      },
      "source": [
        "sns.set(rc={'figure.figsize':(20, 10)})\n",
        "\n",
        "sns.boxplot(x=\"Electricity\", \n",
        "            y=\"Wealth Index\",\n",
        "            hue='URBAN_RURA',  \n",
        "            data=df)"
      ],
      "execution_count": null,
      "outputs": []
    },
    {
      "cell_type": "markdown",
      "metadata": {
        "id": "0ZvxIF27V_bH"
      },
      "source": [
        "Relation between Drinking Water & Wealth"
      ]
    },
    {
      "cell_type": "code",
      "metadata": {
        "id": "L6NnJrGRV_bH"
      },
      "source": [
        "sns.set(rc={'figure.figsize':(20, 10)})\n",
        "\n",
        "sns.boxplot(x=\"Drinking Water\", \n",
        "            y=\"Wealth Index\",\n",
        "            hue='URBAN_RURA',  \n",
        "            data=df)"
      ],
      "execution_count": null,
      "outputs": []
    },
    {
      "cell_type": "markdown",
      "metadata": {
        "id": "1KqVff47V_bI"
      },
      "source": [
        "Relation between Drinking Population Density & Wealth"
      ]
    },
    {
      "cell_type": "code",
      "metadata": {
        "id": "h7UQlMjtV_bJ"
      },
      "source": [
        "sns.set(rc={'figure.figsize':(5, 4)})\n",
        "\n",
        "sns.boxplot(x=\"Population_Density\", \n",
        "            y=\"Wealth Index\",  \n",
        "            data=df)"
      ],
      "execution_count": null,
      "outputs": []
    },
    {
      "cell_type": "markdown",
      "metadata": {
        "id": "ipKVvMnjbYrq"
      },
      "source": [
        "## Modelling & Evaluation"
      ]
    },
    {
      "cell_type": "markdown",
      "metadata": {
        "id": "wxrFU6e-bIna"
      },
      "source": [
        "\n",
        "This is a classification problem. Classification algorithms that might work:\n",
        "\n",
        "\n",
        "\n",
        "*   SVM\n",
        "*   Logistic Regression\n",
        "*   Decision Trees\n"
      ]
    },
    {
      "cell_type": "markdown",
      "metadata": {
        "id": "5AcNSLmCbtR4"
      },
      "source": [
        "### Preprocessing"
      ]
    },
    {
      "cell_type": "code",
      "metadata": {
        "id": "6uaL1nK4cFLz"
      },
      "source": [
        "df.columns"
      ],
      "execution_count": null,
      "outputs": []
    },
    {
      "cell_type": "code",
      "metadata": {
        "id": "z_FNihMTdsJo"
      },
      "source": [
        "X = df[['Toilet Facility', \n",
        "       'Roof Material', \n",
        "       'Electricity', \n",
        "       'Cooking Fuel', \n",
        "       'Drinking Water', \n",
        "       'URBAN_RURA', \n",
        "       'Population_Density']].values\n",
        "    \n",
        "y = df['Wealth']\n",
        "\n",
        "y[0:5]"
      ],
      "execution_count": null,
      "outputs": []
    },
    {
      "cell_type": "code",
      "metadata": {
        "id": "RYTzj4_al158"
      },
      "source": [
        "le_toilet_facility = preprocessing.LabelEncoder()\n",
        "le_toilet_facility.fit(['Flush', 'No Facility', 'Pit Latrine', 'Other'])\n",
        "X[:,0] = le_toilet_facility.transform(X[:,0]) \n",
        "\n",
        "le_roof_material = preprocessing.LabelEncoder()\n",
        "le_roof_material.fit(['Metal', 'Cement', 'Stones', 'Thatch/Palm', 'Tiles', 'Others', 'Mud', 'Bricks', 'Mat/Sheets', 'Wood', 'No Roof'])\n",
        "X[:,1] = le_roof_material.transform(X[:,1])\n",
        "\n",
        "le_electricity = preprocessing.LabelEncoder()\n",
        "le_electricity.fit(['yes', 'no'])\n",
        "X[:,2] = le_electricity.transform(X[:,2]) \n",
        "\n",
        "le_cooking_fuel = preprocessing.LabelEncoder()\n",
        "le_cooking_fuel.fit(['Petroleum', 'Wood/Straw', 'Electricity', 'Crops', 'Dung', 'Biogas', 'Coal'])\n",
        "X[:,3] = le_cooking_fuel.transform(X[:,3])\n",
        "\n",
        "le_drinking_water = preprocessing.LabelEncoder()\n",
        "le_drinking_water.fit(['Piped Water', 'Public Tap', 'Tube Well/Borehole', 'Well', 'Bottled', 'River/Dam/Lake', 'Ro Plant', 'Tanker', 'Spring', 'Other', 'Small Tank', 'Rainwater'])\n",
        "X[:,4] = le_drinking_water.transform(X[:,4])\n",
        "\n",
        "le_urban_rural = preprocessing.LabelEncoder()\n",
        "le_urban_rural.fit(['U', 'R'])\n",
        "X[:,5] = le_urban_rural.transform(X[:,5])\n",
        "\n",
        "le_population_density = preprocessing.LabelEncoder()\n",
        "le_population_density.fit(['Average', 'Very Low', 'Low', 'High', 'Very High'])\n",
        "X[:,6] = le_population_density.transform(X[:,6])\n",
        "\n",
        "X[:5]"
      ],
      "execution_count": null,
      "outputs": []
    },
    {
      "cell_type": "code",
      "metadata": {
        "id": "UX2fEIRkr_xl"
      },
      "source": [
        "y.unique()"
      ],
      "execution_count": null,
      "outputs": []
    },
    {
      "cell_type": "code",
      "metadata": {
        "id": "-9BX1jRHr367"
      },
      "source": [
        "le_wealth = preprocessing.LabelEncoder()\n",
        "le_wealth.fit(['richer', 'middle', 'poorest', 'poorer', 'richest'])\n",
        "y = le_wealth.transform(y)\n",
        "y[:5]\n",
        "#le_wealth"
      ],
      "execution_count": null,
      "outputs": []
    },
    {
      "cell_type": "code",
      "metadata": {
        "id": "XwHF61YMbvb1"
      },
      "source": [
        "# test-train split\n",
        "X_trainset, X_testset, y_trainset, y_testset = train_test_split(X, y, test_size=0.3, random_state=3)\n",
        "print('Shape of X_trainset :',X_trainset.shape,'\\nShape of y_trainset :',y_trainset.shape)"
      ],
      "execution_count": null,
      "outputs": []
    },
    {
      "cell_type": "code",
      "metadata": {
        "id": "ABH3AH8bqcMn"
      },
      "source": [
        "X_trainset"
      ],
      "execution_count": null,
      "outputs": []
    },
    {
      "cell_type": "code",
      "metadata": {
        "id": "HQS2s8KDg9sH"
      },
      "source": [
        "# to measure performance\n",
        "def evaluate_ai (y_testset, y_hat):\n",
        "    print(\"AI's Accuracy: \", round(metrics.accuracy_score(y_testset, y_hat),2))\n",
        "    print(\"AI's Jaccard Similarity Index: \", round(jaccard_score(y_testset, y_hat, average='weighted'),2))\n",
        "    print(\"AI's F1 Score : \", round(f1_score(y_testset, y_hat, average='weighted'),2))\n",
        "    #print(\"AI's Log Loss: \", round(log_loss(y_testset, y_hat),2))\n",
        "    print(\"AI's MAE: \", round(mean_absolute_error(y_testset, y_hat),2))"
      ],
      "execution_count": null,
      "outputs": []
    },
    {
      "cell_type": "markdown",
      "metadata": {
        "id": "CuV8J400bqIR"
      },
      "source": [
        "### SVM"
      ]
    },
    {
      "cell_type": "code",
      "metadata": {
        "id": "qxKu5nb4gU4H"
      },
      "source": [
        "clf = svm.SVC(kernel='linear', gamma = 'auto')\n",
        "clf.fit(X_trainset,y_trainset)\n",
        "y_hat = clf.predict(X_testset)  \n",
        "evaluate_ai(y_testset, y_hat)"
      ],
      "execution_count": null,
      "outputs": []
    },
    {
      "cell_type": "code",
      "metadata": {
        "id": "SlSOlVPxuHkn"
      },
      "source": [
        "mean_absolute_error(y_hat, y_testset)"
      ],
      "execution_count": null,
      "outputs": []
    },
    {
      "cell_type": "markdown",
      "metadata": {
        "id": "X5wEm2f9Kasn"
      },
      "source": [
        "### Decision Tree"
      ]
    },
    {
      "cell_type": "code",
      "metadata": {
        "id": "l3FNHt_c_U9P"
      },
      "source": [
        "\n",
        "Ks = 12\n",
        "mean_acc= np.zeros((Ks-1))\n",
        "std_acc = np.zeros((Ks-1))\n",
        "ConfustionMx = [];\n",
        "for n in range(1,Ks):\n",
        "    \n",
        "    #Train Model and Predict  \n",
        "    k_hunter = DecisionTreeClassifier(criterion=\"entropy\", max_depth = n).fit(X_trainset,y_trainset)\n",
        "    y_hat2=k_hunter.predict(X_testset)\n",
        "    mean_acc[n-1] = accuracy_score(y_testset, y_hat2)\n",
        "    std_acc[n-1]=np.std(y_hat2==y_testset)/np.sqrt(y_hat2.shape[0])\n",
        "\n",
        "plt.plot(range(1,Ks),mean_acc,'g')\n",
        "plt.fill_between(range(1,Ks),mean_acc - 1 * std_acc,mean_acc + 1 * std_acc, alpha=0.10)\n",
        "plt.legend(('Accuracy Score ', '+/- 3xstd'))\n",
        "plt.ylabel('Accuracy Score')\n",
        "plt.xlabel('Depth')\n",
        "plt.tight_layout()\n",
        "plt.show()\n",
        "\n",
        "Tree_optimizers = []\n",
        "for i in range(0,len(mean_acc)):\n",
        "    if mean_acc[i] == mean_acc.max():\n",
        "        Tree_optimizers.append(i)\n",
        "        print('Depth With Max Accuracy :',i,'\\nMax accuracy :',mean_acc.max())\n",
        "\n",
        "print('\\n')\n",
        "depth_optimized = Tree_optimizers[0]\n",
        "Tree_optimized = DecisionTreeClassifier(criterion=\"entropy\", max_depth = depth_optimized)\n",
        "Tree_optimized.fit(X_trainset,y_trainset)\n",
        "y_hat_optimized = Tree_optimized.predict(X_testset)"
      ],
      "execution_count": null,
      "outputs": []
    },
    {
      "cell_type": "code",
      "metadata": {
        "id": "Bs7-tyebA4gp"
      },
      "source": [
        "# Build the model\n",
        "DTree = DecisionTreeClassifier(criterion=\"entropy\", max_depth = 9)\n",
        "DTree # it shows the default parameters\n",
        "\n",
        "# Fit the model\n",
        "DTree.fit(X_trainset,y_trainset)\n",
        "\n",
        "# Make predictions\n",
        "predTree = DTree.predict(X_testset)\n",
        "evaluate_ai (y_testset, predTree)"
      ],
      "execution_count": null,
      "outputs": []
    },
    {
      "cell_type": "markdown",
      "metadata": {
        "id": "-POxwd8fKen5"
      },
      "source": [
        "### Classification via Neural Network"
      ]
    },
    {
      "cell_type": "code",
      "metadata": {
        "id": "3xMqD-RVKh2p"
      },
      "source": [
        ""
      ],
      "execution_count": null,
      "outputs": []
    },
    {
      "cell_type": "markdown",
      "metadata": {
        "id": "NxWuc6BWrtB0"
      },
      "source": [
        "## Best Performing Models:\n",
        "\n",
        "| Approach | Mean Absolute Error |\n",
        "|:--------:|:-------------------:|\n",
        "| Linear Regression With One Hot Encoding | 27638.585 |\n",
        "| Linear Lasso Regression With Catboost Encoder | 28267.662 |\n",
        "| Decision Tree Regression (depth = 5) <br> With CatBoost Encoder | 28096.050 |\n",
        "| Decision Tree Regression (depth = 8) <br> With One Hot Encoding | 26523.034 | \n",
        "| CatBoost Regression With CatBoost Encoder | 26392.809 |\n"
      ]
    },
    {
      "cell_type": "code",
      "metadata": {
        "id": "i_IegMSIrtnk"
      },
      "source": [
        ""
      ],
      "execution_count": null,
      "outputs": []
    }
  ]
}