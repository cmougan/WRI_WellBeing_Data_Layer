{
  "nbformat": 4,
  "nbformat_minor": 0,
  "metadata": {
    "colab": {
      "name": "(DSSG/WRI) DHS Analysis .ipynb",
      "provenance": [],
      "toc_visible": true
    },
    "kernelspec": {
      "name": "python3",
      "display_name": "Python 3"
    }
  },
  "cells": [
    {
      "cell_type": "code",
      "metadata": {
        "colab": {
          "base_uri": "https://localhost:8080/",
          "height": 119
        },
        "id": "DTGSvQn513aV",
        "outputId": "181140a4-680d-4f32-ced5-2ebdeba56347"
      },
      "source": [
        "# ignore\n",
        "# Was trying to read raw data stored in sav files\n",
        "'''\n",
        "!pip install pyreadstat\n",
        "import pandas as pd\n",
        "df = pd.read_spss('/content/drive/MyDrive/WRI\\DSSG - EDA/House Member Recode 2015.SAV')\n",
        "#df = pd.read_spss('C:\\\\Users\\\\rohaan.nadeem\\\\Desktop\\\\House Member Recode 2015.SAV')\n",
        "import pyreadstat\n",
        "fpath = '/content/drive/MyDrive/WRI\\DSSG - EDA/House Member Recode 2015.SAV'\n",
        "reader = pyreadstat.read_file_in_chunks(pyreadstat.read_sas7bdat, fpath, chunksize= 10000)\n",
        "\n",
        "for df, meta in reader:\n",
        "  print(df) # df will contain 10K rows\n",
        "\n",
        "!pip install savReaderWriter\n",
        "import savReaderWriter as spss\n",
        "import pandas as pd\n",
        "dataFile = '/content/drive/MyDrive/WRI\\DSSG - EDA/House Member Recode 2015.SAV'\n",
        "raw_data = spss.SavReader(dataFile, returnHeader = True) # This is fast\n",
        "data = pd.DataFrame(raw_data)\n",
        "'''"
      ],
      "execution_count": 38,
      "outputs": [
        {
          "output_type": "execute_result",
          "data": {
            "application/vnd.google.colaboratory.intrinsic+json": {
              "type": "string"
            },
            "text/plain": [
              "\"\\n!pip install pyreadstat\\nimport pandas as pd\\ndf = pd.read_spss('/content/drive/MyDrive/WRI\\\\DSSG - EDA/House Member Recode 2015.SAV')\\n#df = pd.read_spss('C:\\\\Users\\\\rohaan.nadeem\\\\Desktop\\\\House Member Recode 2015.SAV')\\nimport pyreadstat\\nfpath = '/content/drive/MyDrive/WRI\\\\DSSG - EDA/House Member Recode 2015.SAV'\\nreader = pyreadstat.read_file_in_chunks(pyreadstat.read_sas7bdat, fpath, chunksize= 10000)\\n\\nfor df, meta in reader:\\n  print(df) # df will contain 10K rows\\n\\n!pip install savReaderWriter\\nimport savReaderWriter as spss\\nimport pandas as pd\\ndataFile = '/content/drive/MyDrive/WRI\\\\DSSG - EDA/House Member Recode 2015.SAV'\\nraw_data = spss.SavReader(dataFile, returnHeader = True) # This is fast\\ndata = pd.DataFrame(raw_data)\\n\""
            ]
          },
          "metadata": {
            "tags": []
          },
          "execution_count": 38
        }
      ]
    },
    {
      "cell_type": "markdown",
      "metadata": {
        "id": "kBOU4GnV33Yp"
      },
      "source": [
        "External Libraries"
      ]
    },
    {
      "cell_type": "code",
      "metadata": {
        "id": "Sni866Rc33Gb"
      },
      "source": [
        "import numpy as np # for linear algebra\n",
        "import pandas as pd # for dataframes\n",
        "import matplotlib.pyplot as plt # for data visiualization\n",
        "import seaborn as sns # for data visualization\n",
        "from sklearn import preprocessing # for one hot encoding\n",
        "from sklearn.pipeline import Pipeline # for pipelines\n",
        "from sklearn.model_selection import train_test_split # for tts\n",
        "from sklearn import svm # classification model\n",
        "from sklearn.metrics import mean_absolute_error, jaccard_score, f1_score, log_loss, accuracy_score # metrics\n",
        "from sklearn import metrics # for accuracy score metric\n",
        "from sklearn.tree import DecisionTreeClassifier # Decision Trees\n",
        "from tensorflow import keras # for deep learning\n",
        "from tensorflow.keras import layers # for deep learning\n",
        "%matplotlib inline "
      ],
      "execution_count": 39,
      "outputs": []
    },
    {
      "cell_type": "markdown",
      "metadata": {
        "id": "YL5U9R2a4lxw"
      },
      "source": [
        "Read data"
      ]
    },
    {
      "cell_type": "code",
      "metadata": {
        "id": "BPZBPlJGZ5ei",
        "colab": {
          "base_uri": "https://localhost:8080/"
        },
        "outputId": "ae251c3b-378b-4fb5-be24-36acde587fc1"
      },
      "source": [
        "df = pd.read_csv('/content/drive/MyDrive/WRI\\DSSG - EDA/DHS-PROCESSED-CLEAN.csv',\n",
        "                 #index_col = 'DHSCLUST'\t\n",
        "                 )\n",
        "df.shape"
      ],
      "execution_count": 40,
      "outputs": [
        {
          "output_type": "execute_result",
          "data": {
            "text/plain": [
              "(28385, 16)"
            ]
          },
          "metadata": {
            "tags": []
          },
          "execution_count": 40
        }
      ]
    },
    {
      "cell_type": "code",
      "metadata": {
        "id": "k4vGCmPaabVS",
        "colab": {
          "base_uri": "https://localhost:8080/",
          "height": 400
        },
        "outputId": "682a816c-9828-4921-d8e2-2dcbcf80b07e"
      },
      "source": [
        "# glimpse data\n",
        "df.head()"
      ],
      "execution_count": 41,
      "outputs": [
        {
          "output_type": "execute_result",
          "data": {
            "text/html": [
              "<div>\n",
              "<style scoped>\n",
              "    .dataframe tbody tr th:only-of-type {\n",
              "        vertical-align: middle;\n",
              "    }\n",
              "\n",
              "    .dataframe tbody tr th {\n",
              "        vertical-align: top;\n",
              "    }\n",
              "\n",
              "    .dataframe thead th {\n",
              "        text-align: right;\n",
              "    }\n",
              "</style>\n",
              "<table border=\"1\" class=\"dataframe\">\n",
              "  <thead>\n",
              "    <tr style=\"text-align: right;\">\n",
              "      <th></th>\n",
              "      <th>DHSCLUST</th>\n",
              "      <th>Wealth</th>\n",
              "      <th>Wealth Index</th>\n",
              "      <th>Toilet Facility</th>\n",
              "      <th>Roof Material</th>\n",
              "      <th>Electricity</th>\n",
              "      <th>Cooking Fuel</th>\n",
              "      <th>Drinking Water</th>\n",
              "      <th>URBAN_RURA</th>\n",
              "      <th>DHSREGNA</th>\n",
              "      <th>ADM1NAME</th>\n",
              "      <th>LATNUM</th>\n",
              "      <th>LONGNUM</th>\n",
              "      <th>geometry</th>\n",
              "      <th>UN_Population_Density_2015</th>\n",
              "      <th>Population_Density</th>\n",
              "    </tr>\n",
              "  </thead>\n",
              "  <tbody>\n",
              "    <tr>\n",
              "      <th>0</th>\n",
              "      <td>10001</td>\n",
              "      <td>richer</td>\n",
              "      <td>107648.636364</td>\n",
              "      <td>Flush</td>\n",
              "      <td>Metal</td>\n",
              "      <td>yes</td>\n",
              "      <td>Petroleum</td>\n",
              "      <td>Piped Water</td>\n",
              "      <td>U</td>\n",
              "      <td>South Andaman</td>\n",
              "      <td>Andaman &amp; Nicobar Islands</td>\n",
              "      <td>11.670645</td>\n",
              "      <td>92.745799</td>\n",
              "      <td>POINT (92.74579928369999 11.6706448114)</td>\n",
              "      <td>371.654433</td>\n",
              "      <td>Average</td>\n",
              "    </tr>\n",
              "    <tr>\n",
              "      <th>1</th>\n",
              "      <td>10002</td>\n",
              "      <td>middle</td>\n",
              "      <td>25279.409091</td>\n",
              "      <td>Flush</td>\n",
              "      <td>Metal</td>\n",
              "      <td>yes</td>\n",
              "      <td>Petroleum</td>\n",
              "      <td>Piped Water</td>\n",
              "      <td>R</td>\n",
              "      <td>Nicobars</td>\n",
              "      <td>Andaman &amp; Nicobar Islands</td>\n",
              "      <td>9.143844</td>\n",
              "      <td>92.826752</td>\n",
              "      <td>POINT (92.8267516352 9.143843815149999)</td>\n",
              "      <td>129.322150</td>\n",
              "      <td>Very Low</td>\n",
              "    </tr>\n",
              "    <tr>\n",
              "      <th>2</th>\n",
              "      <td>10003</td>\n",
              "      <td>middle</td>\n",
              "      <td>4725.681818</td>\n",
              "      <td>Flush</td>\n",
              "      <td>Metal</td>\n",
              "      <td>yes</td>\n",
              "      <td>Wood/Straw</td>\n",
              "      <td>Piped Water</td>\n",
              "      <td>R</td>\n",
              "      <td>Nicobars</td>\n",
              "      <td>Andaman &amp; Nicobar Islands</td>\n",
              "      <td>9.212246</td>\n",
              "      <td>92.753633</td>\n",
              "      <td>POINT (92.75363284469999 9.212245586050001)</td>\n",
              "      <td>129.322140</td>\n",
              "      <td>Very Low</td>\n",
              "    </tr>\n",
              "    <tr>\n",
              "      <th>3</th>\n",
              "      <td>10004</td>\n",
              "      <td>middle</td>\n",
              "      <td>17484.909091</td>\n",
              "      <td>Flush</td>\n",
              "      <td>Metal</td>\n",
              "      <td>yes</td>\n",
              "      <td>Wood/Straw</td>\n",
              "      <td>Piped Water</td>\n",
              "      <td>R</td>\n",
              "      <td>Nicobars</td>\n",
              "      <td>Andaman &amp; Nicobar Islands</td>\n",
              "      <td>9.165413</td>\n",
              "      <td>92.742696</td>\n",
              "      <td>POINT (92.74269589719999 9.165413484529999)</td>\n",
              "      <td>129.322139</td>\n",
              "      <td>Very Low</td>\n",
              "    </tr>\n",
              "    <tr>\n",
              "      <th>4</th>\n",
              "      <td>10005</td>\n",
              "      <td>middle</td>\n",
              "      <td>25083.454545</td>\n",
              "      <td>Flush</td>\n",
              "      <td>Metal</td>\n",
              "      <td>yes</td>\n",
              "      <td>Petroleum</td>\n",
              "      <td>Piped Water</td>\n",
              "      <td>R</td>\n",
              "      <td>Nicobars</td>\n",
              "      <td>Andaman &amp; Nicobar Islands</td>\n",
              "      <td>8.307356</td>\n",
              "      <td>93.093792</td>\n",
              "      <td>POINT (93.0937924407 8.30735625773)</td>\n",
              "      <td>20.672477</td>\n",
              "      <td>Very Low</td>\n",
              "    </tr>\n",
              "  </tbody>\n",
              "</table>\n",
              "</div>"
            ],
            "text/plain": [
              "   DHSCLUST  Wealth  ...  UN_Population_Density_2015 Population_Density\n",
              "0     10001  richer  ...                  371.654433            Average\n",
              "1     10002  middle  ...                  129.322150           Very Low\n",
              "2     10003  middle  ...                  129.322140           Very Low\n",
              "3     10004  middle  ...                  129.322139           Very Low\n",
              "4     10005  middle  ...                   20.672477           Very Low\n",
              "\n",
              "[5 rows x 16 columns]"
            ]
          },
          "metadata": {
            "tags": []
          },
          "execution_count": 41
        }
      ]
    },
    {
      "cell_type": "markdown",
      "metadata": {
        "id": "ZCRRoMqG5IaW"
      },
      "source": [
        "Since wealth is the target, need to ensure the data is balanced."
      ]
    },
    {
      "cell_type": "markdown",
      "metadata": {
        "id": "w-KNMxVEH-Os"
      },
      "source": [
        "## Data Balancing"
      ]
    },
    {
      "cell_type": "code",
      "metadata": {
        "colab": {
          "base_uri": "https://localhost:8080/",
          "height": 350
        },
        "id": "bsTdTYOA8KOv",
        "outputId": "89dc5ea8-a7a1-4587-bd7a-0c2a0c977fee"
      },
      "source": [
        "df.Wealth.value_counts().plot.bar(title = 'Distribution of Wealth Classes',\n",
        "                                  xlabel = 'Wealth Class',\n",
        "                                  ylabel = 'Number of Records')"
      ],
      "execution_count": 42,
      "outputs": [
        {
          "output_type": "execute_result",
          "data": {
            "text/plain": [
              "<matplotlib.axes._subplots.AxesSubplot at 0x7f72a5a3b850>"
            ]
          },
          "metadata": {
            "tags": []
          },
          "execution_count": 42
        },
        {
          "output_type": "display_data",
          "data": {
            "image/png": "[encoded data removed]",
            "text/plain": [
              "<Figure size 432x288 with 1 Axes>"
            ]
          },
          "metadata": {
            "tags": [],
            "needs_background": "light"
          }
        }
      ]
    },
    {
      "cell_type": "code",
      "metadata": {
        "colab": {
          "base_uri": "https://localhost:8080/",
          "height": 350
        },
        "id": "EUIIXU398lok",
        "outputId": "28de2b46-0123-4630-8b58-5122e0c69356"
      },
      "source": [
        "wealth_records = df.Wealth.value_counts()\n",
        "wealth_records_unbalance = wealth_records - df.Wealth.value_counts().mean()\n",
        "wealth_records_unbalance.plot.bar( title = 'Class Records Imbalance',\n",
        "                                  xlabel = 'Wealth Class',\n",
        "                                  ylabel = 'Variance (Number of Records)')"
      ],
      "execution_count": 43,
      "outputs": [
        {
          "output_type": "execute_result",
          "data": {
            "text/plain": [
              "<matplotlib.axes._subplots.AxesSubplot at 0x7f72a5a16390>"
            ]
          },
          "metadata": {
            "tags": []
          },
          "execution_count": 43
        },
        {
          "output_type": "display_data",
          "data": {
            "image/png": "[encoded data removed]",
            "text/plain": [
              "<Figure size 432x288 with 1 Axes>"
            ]
          },
          "metadata": {
            "tags": [],
            "needs_background": "light"
          }
        }
      ]
    },
    {
      "cell_type": "code",
      "metadata": {
        "colab": {
          "base_uri": "https://localhost:8080/"
        },
        "id": "ujeEoRIC_Osp",
        "outputId": "e5722e33-3ccf-4618-8021-6af579622684"
      },
      "source": [
        "print('Number of Poorest class records: ', wealth_records[0])\n",
        "print('Number of Richer class records: ', wealth_records[-1])\n",
        "print('Poorest to Richer Ratio: ', round(wealth_records[0]/wealth_records[-1],3))"
      ],
      "execution_count": 44,
      "outputs": [
        {
          "output_type": "stream",
          "text": [
            "Number of Poorest class records:  7472\n",
            "Number of Richer class records:  4724\n",
            "Poorest to Richer Ratio:  1.582\n"
          ],
          "name": "stdout"
        }
      ]
    },
    {
      "cell_type": "markdown",
      "metadata": {
        "id": "c8aQ8die_7aM"
      },
      "source": [
        "Looks like data is highly unbalanced towards the poorest class.\n",
        "\n",
        "Removing bias via random sampling"
      ]
    },
    {
      "cell_type": "code",
      "metadata": {
        "colab": {
          "base_uri": "https://localhost:8080/",
          "height": 137
        },
        "id": "McPHvyZn_MsD",
        "outputId": "c6f7370d-faac-4f79-9d55-c6b68d47de55"
      },
      "source": [
        "'''# undersampling poorest class\n",
        "delta = wealth_records[0] - wealth_records[-1]\n",
        "to_remove = np.random.choice(df[df['Wealth'] == 'poorest'].index, delta ,replace=False)\n",
        "df.drop(to_remove, inplace = True)\n",
        "\n",
        "# undersampling poorer class\n",
        "delta = wealth_records[1] - wealth_records[-1]\n",
        "to_remove = np.random.choice(df[df['Wealth'] == 'poorer'].index, delta ,replace=False)\n",
        "df.drop(to_remove, inplace = True)\n",
        "\n",
        "# undersampling richest class\n",
        "delta = wealth_records[2] - wealth_records[-1]\n",
        "to_remove = np.random.choice(df[df['Wealth'] == 'richest'].index, delta ,replace=False)\n",
        "df.drop(to_remove, inplace = True)\n",
        "\n",
        "# undersampling poorer class\n",
        "delta = wealth_records[3] - wealth_records[-1]\n",
        "to_remove = np.random.choice(df[df['Wealth'] == 'middle'].index, delta ,replace=False)\n",
        "df.drop(to_remove, inplace = True)\n",
        "\n",
        "df.Wealth.value_counts().plot.bar(title = 'Distribution of Wealth Classes (random undersampled)',\n",
        "                                  xlabel = 'Wealth Class',\n",
        "                                  ylabel = 'Number of Records')\n",
        "\n",
        "'''"
      ],
      "execution_count": 45,
      "outputs": [
        {
          "output_type": "execute_result",
          "data": {
            "application/vnd.google.colaboratory.intrinsic+json": {
              "type": "string"
            },
            "text/plain": [
              "\"# undersampling poorest class\\ndelta = wealth_records[0] - wealth_records[-1]\\nto_remove = np.random.choice(df[df['Wealth'] == 'poorest'].index, delta ,replace=False)\\ndf.drop(to_remove, inplace = True)\\n\\n# undersampling poorer class\\ndelta = wealth_records[1] - wealth_records[-1]\\nto_remove = np.random.choice(df[df['Wealth'] == 'poorer'].index, delta ,replace=False)\\ndf.drop(to_remove, inplace = True)\\n\\n# undersampling richest class\\ndelta = wealth_records[2] - wealth_records[-1]\\nto_remove = np.random.choice(df[df['Wealth'] == 'richest'].index, delta ,replace=False)\\ndf.drop(to_remove, inplace = True)\\n\\n# undersampling poorer class\\ndelta = wealth_records[3] - wealth_records[-1]\\nto_remove = np.random.choice(df[df['Wealth'] == 'middle'].index, delta ,replace=False)\\ndf.drop(to_remove, inplace = True)\\n\\ndf.Wealth.value_counts().plot.bar(title = 'Distribution of Wealth Classes (random undersampled)',\\n                                  xlabel = 'Wealth Class',\\n                                  ylabel = 'Number of Records')\\n\\n\""
            ]
          },
          "metadata": {
            "tags": []
          },
          "execution_count": 45
        }
      ]
    },
    {
      "cell_type": "markdown",
      "metadata": {
        "id": "nhTJza6WH1__"
      },
      "source": [
        "## EDA"
      ]
    },
    {
      "cell_type": "markdown",
      "metadata": {
        "id": "fugfxt7SAF7u"
      },
      "source": [
        "For proper visualization, understanding data types"
      ]
    },
    {
      "cell_type": "code",
      "metadata": {
        "colab": {
          "base_uri": "https://localhost:8080/"
        },
        "id": "pc5jTaUx4mGU",
        "outputId": "d7971efc-bb9e-4ee9-a61b-428cc0273bc3"
      },
      "source": [
        "df.dtypes"
      ],
      "execution_count": 46,
      "outputs": [
        {
          "output_type": "execute_result",
          "data": {
            "text/plain": [
              "DHSCLUST                        int64\n",
              "Wealth                         object\n",
              "Wealth Index                  float64\n",
              "Toilet Facility                object\n",
              "Roof Material                  object\n",
              "Electricity                    object\n",
              "Cooking Fuel                   object\n",
              "Drinking Water                 object\n",
              "URBAN_RURA                     object\n",
              "DHSREGNA                       object\n",
              "ADM1NAME                       object\n",
              "LATNUM                        float64\n",
              "LONGNUM                       float64\n",
              "geometry                       object\n",
              "UN_Population_Density_2015    float64\n",
              "Population_Density             object\n",
              "dtype: object"
            ]
          },
          "metadata": {
            "tags": []
          },
          "execution_count": 46
        }
      ]
    },
    {
      "cell_type": "markdown",
      "metadata": {
        "id": "vtMudzWp5MiP"
      },
      "source": [
        "#### Quantitative Analysis"
      ]
    },
    {
      "cell_type": "code",
      "metadata": {
        "colab": {
          "base_uri": "https://localhost:8080/",
          "height": 284
        },
        "id": "GCSsvdbhHyJW",
        "outputId": "74a8df7f-3bf1-4823-8831-1c01bb523e40"
      },
      "source": [
        "df.describe()"
      ],
      "execution_count": 47,
      "outputs": [
        {
          "output_type": "execute_result",
          "data": {
            "text/html": [
              "<div>\n",
              "<style scoped>\n",
              "    .dataframe tbody tr th:only-of-type {\n",
              "        vertical-align: middle;\n",
              "    }\n",
              "\n",
              "    .dataframe tbody tr th {\n",
              "        vertical-align: top;\n",
              "    }\n",
              "\n",
              "    .dataframe thead th {\n",
              "        text-align: right;\n",
              "    }\n",
              "</style>\n",
              "<table border=\"1\" class=\"dataframe\">\n",
              "  <thead>\n",
              "    <tr style=\"text-align: right;\">\n",
              "      <th></th>\n",
              "      <th>DHSCLUST</th>\n",
              "      <th>Wealth Index</th>\n",
              "      <th>LATNUM</th>\n",
              "      <th>LONGNUM</th>\n",
              "      <th>UN_Population_Density_2015</th>\n",
              "    </tr>\n",
              "  </thead>\n",
              "  <tbody>\n",
              "    <tr>\n",
              "      <th>count</th>\n",
              "      <td>28385.000000</td>\n",
              "      <td>28385.000000</td>\n",
              "      <td>28385.000000</td>\n",
              "      <td>28385.000000</td>\n",
              "      <td>28385.000000</td>\n",
              "    </tr>\n",
              "    <tr>\n",
              "      <th>mean</th>\n",
              "      <td>204552.698679</td>\n",
              "      <td>885.282712</td>\n",
              "      <td>23.677259</td>\n",
              "      <td>81.388993</td>\n",
              "      <td>1235.154076</td>\n",
              "    </tr>\n",
              "    <tr>\n",
              "      <th>std</th>\n",
              "      <td>102722.430175</td>\n",
              "      <td>79344.783728</td>\n",
              "      <td>5.473717</td>\n",
              "      <td>6.342562</td>\n",
              "      <td>3664.137831</td>\n",
              "    </tr>\n",
              "    <tr>\n",
              "      <th>min</th>\n",
              "      <td>10001.000000</td>\n",
              "      <td>-179271.333333</td>\n",
              "      <td>6.968333</td>\n",
              "      <td>68.784352</td>\n",
              "      <td>0.000000</td>\n",
              "    </tr>\n",
              "    <tr>\n",
              "      <th>25%</th>\n",
              "      <td>130040.000000</td>\n",
              "      <td>-62347.950000</td>\n",
              "      <td>21.245899</td>\n",
              "      <td>76.579031</td>\n",
              "      <td>237.785146</td>\n",
              "    </tr>\n",
              "    <tr>\n",
              "      <th>50%</th>\n",
              "      <td>200548.000000</td>\n",
              "      <td>-7283.526316</td>\n",
              "      <td>24.785519</td>\n",
              "      <td>79.517600</td>\n",
              "      <td>471.385994</td>\n",
              "    </tr>\n",
              "    <tr>\n",
              "      <th>75%</th>\n",
              "      <td>300024.000000</td>\n",
              "      <td>62454.727273</td>\n",
              "      <td>27.114872</td>\n",
              "      <td>85.542028</td>\n",
              "      <td>954.873995</td>\n",
              "    </tr>\n",
              "    <tr>\n",
              "      <th>max</th>\n",
              "      <td>360482.000000</td>\n",
              "      <td>223809.000000</td>\n",
              "      <td>34.847342</td>\n",
              "      <td>97.050089</td>\n",
              "      <td>63807.058333</td>\n",
              "    </tr>\n",
              "  </tbody>\n",
              "</table>\n",
              "</div>"
            ],
            "text/plain": [
              "            DHSCLUST   Wealth Index  ...       LONGNUM  UN_Population_Density_2015\n",
              "count   28385.000000   28385.000000  ...  28385.000000                28385.000000\n",
              "mean   204552.698679     885.282712  ...     81.388993                 1235.154076\n",
              "std    102722.430175   79344.783728  ...      6.342562                 3664.137831\n",
              "min     10001.000000 -179271.333333  ...     68.784352                    0.000000\n",
              "25%    130040.000000  -62347.950000  ...     76.579031                  237.785146\n",
              "50%    200548.000000   -7283.526316  ...     79.517600                  471.385994\n",
              "75%    300024.000000   62454.727273  ...     85.542028                  954.873995\n",
              "max    360482.000000  223809.000000  ...     97.050089                63807.058333\n",
              "\n",
              "[8 rows x 5 columns]"
            ]
          },
          "metadata": {
            "tags": []
          },
          "execution_count": 47
        }
      ]
    },
    {
      "cell_type": "markdown",
      "metadata": {
        "id": "ZweasTee2xC3"
      },
      "source": [
        "Questions:\n",
        "1. Does Wealth Index has outliers? (Box and whiskers will tell)."
      ]
    },
    {
      "cell_type": "code",
      "metadata": {
        "colab": {
          "base_uri": "https://localhost:8080/",
          "height": 285
        },
        "id": "MntzY5ps3CBm",
        "outputId": "153ced98-2a37-4590-bba8-00d09da24b7e"
      },
      "source": [
        "df.boxplot(column = ['Wealth Index'])"
      ],
      "execution_count": 48,
      "outputs": [
        {
          "output_type": "execute_result",
          "data": {
            "text/plain": [
              "<matplotlib.axes._subplots.AxesSubplot at 0x7f72a5981150>"
            ]
          },
          "metadata": {
            "tags": []
          },
          "execution_count": 48
        },
        {
          "output_type": "display_data",
          "data": {
            "image/png": "[encoded data removed]",
            "text/plain": [
              "<Figure size 432x288 with 1 Axes>"
            ]
          },
          "metadata": {
            "tags": [],
            "needs_background": "light"
          }
        }
      ]
    },
    {
      "cell_type": "markdown",
      "metadata": {
        "id": "loiyWa_04DVE"
      },
      "source": [
        "Looks okay. \n",
        "\n",
        "What about correlations?"
      ]
    },
    {
      "cell_type": "code",
      "metadata": {
        "colab": {
          "base_uri": "https://localhost:8080/",
          "height": 195
        },
        "id": "fL_2Z0nzAl_k",
        "outputId": "2e4ed38f-1c25-4b97-d9d2-76ce006b692e"
      },
      "source": [
        "df.corr()"
      ],
      "execution_count": 49,
      "outputs": [
        {
          "output_type": "execute_result",
          "data": {
            "text/html": [
              "<div>\n",
              "<style scoped>\n",
              "    .dataframe tbody tr th:only-of-type {\n",
              "        vertical-align: middle;\n",
              "    }\n",
              "\n",
              "    .dataframe tbody tr th {\n",
              "        vertical-align: top;\n",
              "    }\n",
              "\n",
              "    .dataframe thead th {\n",
              "        text-align: right;\n",
              "    }\n",
              "</style>\n",
              "<table border=\"1\" class=\"dataframe\">\n",
              "  <thead>\n",
              "    <tr style=\"text-align: right;\">\n",
              "      <th></th>\n",
              "      <th>DHSCLUST</th>\n",
              "      <th>Wealth Index</th>\n",
              "      <th>LATNUM</th>\n",
              "      <th>LONGNUM</th>\n",
              "      <th>UN_Population_Density_2015</th>\n",
              "    </tr>\n",
              "  </thead>\n",
              "  <tbody>\n",
              "    <tr>\n",
              "      <th>DHSCLUST</th>\n",
              "      <td>1.000000</td>\n",
              "      <td>0.089444</td>\n",
              "      <td>0.023887</td>\n",
              "      <td>-0.202747</td>\n",
              "      <td>0.077470</td>\n",
              "    </tr>\n",
              "    <tr>\n",
              "      <th>Wealth Index</th>\n",
              "      <td>0.089444</td>\n",
              "      <td>1.000000</td>\n",
              "      <td>-0.031839</td>\n",
              "      <td>-0.295426</td>\n",
              "      <td>0.234331</td>\n",
              "    </tr>\n",
              "    <tr>\n",
              "      <th>LATNUM</th>\n",
              "      <td>0.023887</td>\n",
              "      <td>-0.031839</td>\n",
              "      <td>1.000000</td>\n",
              "      <td>0.114382</td>\n",
              "      <td>-0.006323</td>\n",
              "    </tr>\n",
              "    <tr>\n",
              "      <th>LONGNUM</th>\n",
              "      <td>-0.202747</td>\n",
              "      <td>-0.295426</td>\n",
              "      <td>0.114382</td>\n",
              "      <td>1.000000</td>\n",
              "      <td>-0.076227</td>\n",
              "    </tr>\n",
              "    <tr>\n",
              "      <th>UN_Population_Density_2015</th>\n",
              "      <td>0.077470</td>\n",
              "      <td>0.234331</td>\n",
              "      <td>-0.006323</td>\n",
              "      <td>-0.076227</td>\n",
              "      <td>1.000000</td>\n",
              "    </tr>\n",
              "  </tbody>\n",
              "</table>\n",
              "</div>"
            ],
            "text/plain": [
              "                            DHSCLUST  ...  UN_Population_Density_2015\n",
              "DHSCLUST                    1.000000  ...                    0.077470\n",
              "Wealth Index                0.089444  ...                    0.234331\n",
              "LATNUM                      0.023887  ...                   -0.006323\n",
              "LONGNUM                    -0.202747  ...                   -0.076227\n",
              "UN_Population_Density_2015  0.077470  ...                    1.000000\n",
              "\n",
              "[5 rows x 5 columns]"
            ]
          },
          "metadata": {
            "tags": []
          },
          "execution_count": 49
        }
      ]
    },
    {
      "cell_type": "markdown",
      "metadata": {
        "id": "xIy37sL0BDOD"
      },
      "source": [
        "*   Latitude and Longitude are irrelevant. \n",
        "*   Population density has a weak correlation with Wealth Index. Makes sense. \n"
      ]
    },
    {
      "cell_type": "markdown",
      "metadata": {
        "id": "fPyaIfi-5nt5"
      },
      "source": [
        "#### Descriptive Analysis"
      ]
    },
    {
      "cell_type": "code",
      "metadata": {
        "colab": {
          "base_uri": "https://localhost:8080/",
          "height": 216
        },
        "id": "g7HnU03t5aGS",
        "outputId": "157e05a7-c993-4b56-c203-2f703508e05a"
      },
      "source": [
        "df.describe(include = 'object')"
      ],
      "execution_count": 50,
      "outputs": [
        {
          "output_type": "execute_result",
          "data": {
            "text/html": [
              "<div>\n",
              "<style scoped>\n",
              "    .dataframe tbody tr th:only-of-type {\n",
              "        vertical-align: middle;\n",
              "    }\n",
              "\n",
              "    .dataframe tbody tr th {\n",
              "        vertical-align: top;\n",
              "    }\n",
              "\n",
              "    .dataframe thead th {\n",
              "        text-align: right;\n",
              "    }\n",
              "</style>\n",
              "<table border=\"1\" class=\"dataframe\">\n",
              "  <thead>\n",
              "    <tr style=\"text-align: right;\">\n",
              "      <th></th>\n",
              "      <th>Wealth</th>\n",
              "      <th>Toilet Facility</th>\n",
              "      <th>Roof Material</th>\n",
              "      <th>Electricity</th>\n",
              "      <th>Cooking Fuel</th>\n",
              "      <th>Drinking Water</th>\n",
              "      <th>URBAN_RURA</th>\n",
              "      <th>DHSREGNA</th>\n",
              "      <th>ADM1NAME</th>\n",
              "      <th>geometry</th>\n",
              "      <th>Population_Density</th>\n",
              "    </tr>\n",
              "  </thead>\n",
              "  <tbody>\n",
              "    <tr>\n",
              "      <th>count</th>\n",
              "      <td>28385</td>\n",
              "      <td>28385</td>\n",
              "      <td>28385</td>\n",
              "      <td>28385</td>\n",
              "      <td>28385</td>\n",
              "      <td>28385</td>\n",
              "      <td>28385</td>\n",
              "      <td>28385</td>\n",
              "      <td>28385</td>\n",
              "      <td>28385</td>\n",
              "      <td>28385</td>\n",
              "    </tr>\n",
              "    <tr>\n",
              "      <th>unique</th>\n",
              "      <td>5</td>\n",
              "      <td>4</td>\n",
              "      <td>11</td>\n",
              "      <td>2</td>\n",
              "      <td>7</td>\n",
              "      <td>12</td>\n",
              "      <td>2</td>\n",
              "      <td>634</td>\n",
              "      <td>36</td>\n",
              "      <td>28385</td>\n",
              "      <td>5</td>\n",
              "    </tr>\n",
              "    <tr>\n",
              "      <th>top</th>\n",
              "      <td>poorest</td>\n",
              "      <td>Flush</td>\n",
              "      <td>Cement</td>\n",
              "      <td>yes</td>\n",
              "      <td>Wood/Straw</td>\n",
              "      <td>Tube Well/Borehole</td>\n",
              "      <td>R</td>\n",
              "      <td>Meerut</td>\n",
              "      <td>Uttar Pradesh</td>\n",
              "      <td>POINT (84.6818742 23.43799311)</td>\n",
              "      <td>Low</td>\n",
              "    </tr>\n",
              "    <tr>\n",
              "      <th>freq</th>\n",
              "      <td>7472</td>\n",
              "      <td>13904</td>\n",
              "      <td>11931</td>\n",
              "      <td>26297</td>\n",
              "      <td>15079</td>\n",
              "      <td>12064</td>\n",
              "      <td>19919</td>\n",
              "      <td>112</td>\n",
              "      <td>3637</td>\n",
              "      <td>1</td>\n",
              "      <td>5677</td>\n",
              "    </tr>\n",
              "  </tbody>\n",
              "</table>\n",
              "</div>"
            ],
            "text/plain": [
              "         Wealth  ... Population_Density\n",
              "count     28385  ...              28385\n",
              "unique        5  ...                  5\n",
              "top     poorest  ...                Low\n",
              "freq       7472  ...               5677\n",
              "\n",
              "[4 rows x 11 columns]"
            ]
          },
          "metadata": {
            "tags": []
          },
          "execution_count": 50
        }
      ]
    },
    {
      "cell_type": "markdown",
      "metadata": {
        "id": "ejJ9cJRU532h"
      },
      "source": [
        "Observations:\n",
        "*   No missing data\n",
        "\n",
        "Questions:\n",
        "\n",
        "*   Relation between Toilet Facilitty & Wealth\n",
        "*   Relation between Roof Material & Wealth\n",
        "*   Relation between Electricity & Wealth\n",
        "*   Relation between Drinking Water & Wealth\n",
        "*   Relation between Drinking Population Density & Wealth\n",
        "\n",
        "The columns I think will not help:\n",
        "\n",
        "*   ~Urban/Rural~\n",
        "*   DHSREGNA\t\n",
        "*   ADM1NAME\t\n",
        "*   geometry\n",
        "*   LATNUM\n",
        "*   LONGNUM\n",
        "\n",
        "\n",
        "\n",
        "\n",
        "\n",
        "\n"
      ]
    },
    {
      "cell_type": "code",
      "metadata": {
        "colab": {
          "base_uri": "https://localhost:8080/"
        },
        "id": "sXfbh2hb3IBJ",
        "outputId": "73f77c6c-db41-4c91-f697-345ed6a8ff5b"
      },
      "source": [
        "df.drop(columns = ['DHSREGNA', 'ADM1NAME', 'LATNUM', 'LONGNUM', 'geometry'],\n",
        "        inplace = True)\n",
        "df.shape"
      ],
      "execution_count": 51,
      "outputs": [
        {
          "output_type": "execute_result",
          "data": {
            "text/plain": [
              "(28385, 11)"
            ]
          },
          "metadata": {
            "tags": []
          },
          "execution_count": 51
        }
      ]
    },
    {
      "cell_type": "code",
      "metadata": {
        "colab": {
          "base_uri": "https://localhost:8080/"
        },
        "id": "4s8vQ1PH_ABv",
        "outputId": "be6727cd-1384-48d4-ab66-744ee8e31e0f"
      },
      "source": [
        "df.columns"
      ],
      "execution_count": 52,
      "outputs": [
        {
          "output_type": "execute_result",
          "data": {
            "text/plain": [
              "Index(['DHSCLUST', 'Wealth', 'Wealth Index', 'Toilet Facility',\n",
              "       'Roof Material', 'Electricity', 'Cooking Fuel', 'Drinking Water',\n",
              "       'URBAN_RURA', 'UN_Population_Density_2015', 'Population_Density'],\n",
              "      dtype='object')"
            ]
          },
          "metadata": {
            "tags": []
          },
          "execution_count": 52
        }
      ]
    },
    {
      "cell_type": "markdown",
      "metadata": {
        "id": "1TSi0FsuOoro"
      },
      "source": [
        "##### Without Rural/Urban Flag"
      ]
    },
    {
      "cell_type": "markdown",
      "metadata": {
        "id": "NlHDtNICCTfh"
      },
      "source": [
        "Relation between Toilet Facilitty & Wealth"
      ]
    },
    {
      "cell_type": "code",
      "metadata": {
        "colab": {
          "base_uri": "https://localhost:8080/",
          "height": 582
        },
        "id": "9meQ4TTKCMPw",
        "outputId": "bb756869-7d52-4d73-b5ec-15afa803a445"
      },
      "source": [
        "sns.set(rc={'figure.figsize':(20, 10)})\n",
        "sns.boxplot(x=\"Toilet Facility\", \n",
        "            y=\"Wealth Index\", \n",
        "            data=df)"
      ],
      "execution_count": 75,
      "outputs": [
        {
          "output_type": "execute_result",
          "data": {
            "text/plain": [
              "<matplotlib.axes._subplots.AxesSubplot at 0x7f72a53a4e90>"
            ]
          },
          "metadata": {
            "tags": []
          },
          "execution_count": 75
        },
        {
          "output_type": "display_data",
          "data": {
            "image/png": "[encoded data removed]",
            "text/plain": [
              "<Figure size 1440x720 with 1 Axes>"
            ]
          },
          "metadata": {
            "tags": []
          }
        }
      ]
    },
    {
      "cell_type": "markdown",
      "metadata": {
        "id": "xTZGDOakCtuO"
      },
      "source": [
        "Relation between Roof Material & Wealth"
      ]
    },
    {
      "cell_type": "code",
      "metadata": {
        "colab": {
          "base_uri": "https://localhost:8080/",
          "height": 582
        },
        "id": "D16OmQDECtOH",
        "outputId": "0a25eee7-a5b7-49e3-8093-bc79f148c47e"
      },
      "source": [
        "sns.set(rc={'figure.figsize':(20, 10)})\n",
        "\n",
        "sns.boxplot(x=\"Roof Material\", \n",
        "            y=\"Wealth Index\",  \n",
        "            data=df)"
      ],
      "execution_count": 54,
      "outputs": [
        {
          "output_type": "execute_result",
          "data": {
            "text/plain": [
              "<matplotlib.axes._subplots.AxesSubplot at 0x7f72a589b350>"
            ]
          },
          "metadata": {
            "tags": []
          },
          "execution_count": 54
        },
        {
          "output_type": "display_data",
          "data": {
            "image/png": "[encoded data removed]",
            "text/plain": [
              "<Figure size 1440x720 with 1 Axes>"
            ]
          },
          "metadata": {
            "tags": []
          }
        }
      ]
    },
    {
      "cell_type": "markdown",
      "metadata": {
        "id": "MmpaVtgGECTr"
      },
      "source": [
        "Relation between Electricity & Wealth"
      ]
    },
    {
      "cell_type": "code",
      "metadata": {
        "colab": {
          "base_uri": "https://localhost:8080/",
          "height": 582
        },
        "id": "BYIl9_YOCkN5",
        "outputId": "4c3e46d7-a09f-44cc-c715-a6b28be30244"
      },
      "source": [
        "sns.set(rc={'figure.figsize':(20, 10)})\n",
        "\n",
        "sns.boxplot(x=\"Electricity\", \n",
        "            y=\"Wealth Index\",  \n",
        "            data=df)"
      ],
      "execution_count": 55,
      "outputs": [
        {
          "output_type": "execute_result",
          "data": {
            "text/plain": [
              "<matplotlib.axes._subplots.AxesSubplot at 0x7f72b161e310>"
            ]
          },
          "metadata": {
            "tags": []
          },
          "execution_count": 55
        },
        {
          "output_type": "display_data",
          "data": {
            "image/png": "[encoded data removed]",
            "text/plain": [
              "<Figure size 1440x720 with 1 Axes>"
            ]
          },
          "metadata": {
            "tags": []
          }
        }
      ]
    },
    {
      "cell_type": "markdown",
      "metadata": {
        "id": "Oj5sbYnkEsxR"
      },
      "source": [
        "Relation between Drinking Water & Wealth"
      ]
    },
    {
      "cell_type": "code",
      "metadata": {
        "colab": {
          "base_uri": "https://localhost:8080/",
          "height": 582
        },
        "id": "mws9JTDXC2yd",
        "outputId": "96ff1831-9871-43cc-afb0-8bcaf1294664"
      },
      "source": [
        "sns.set(rc={'figure.figsize':(20, 10)})\n",
        "\n",
        "sns.boxplot(x=\"Drinking Water\", \n",
        "            y=\"Wealth Index\",  \n",
        "            data=df)"
      ],
      "execution_count": 56,
      "outputs": [
        {
          "output_type": "execute_result",
          "data": {
            "text/plain": [
              "<matplotlib.axes._subplots.AxesSubplot at 0x7f72aea00ed0>"
            ]
          },
          "metadata": {
            "tags": []
          },
          "execution_count": 56
        },
        {
          "output_type": "display_data",
          "data": {
            "image/png": "[encoded data removed]",
            "text/plain": [
              "<Figure size 1440x720 with 1 Axes>"
            ]
          },
          "metadata": {
            "tags": []
          }
        }
      ]
    },
    {
      "cell_type": "markdown",
      "metadata": {
        "id": "gxIWihpGFKYZ"
      },
      "source": [
        "I think differentiating between Rurual and Urban will help."
      ]
    },
    {
      "cell_type": "markdown",
      "metadata": {
        "id": "fFDiZDdZFXco"
      },
      "source": [
        "Relation between Drinking Population Density & Wealth"
      ]
    },
    {
      "cell_type": "code",
      "metadata": {
        "colab": {
          "base_uri": "https://localhost:8080/",
          "height": 582
        },
        "id": "6NWFpYboE0CT",
        "outputId": "c89c4a78-8aba-4291-a7ff-1772073b08fe"
      },
      "source": [
        "sns.set(rc={'figure.figsize':(20, 10)})\n",
        "\n",
        "sns.boxplot(x=\"Population_Density\", \n",
        "            y=\"Wealth Index\",  \n",
        "            data=df)"
      ],
      "execution_count": 57,
      "outputs": [
        {
          "output_type": "execute_result",
          "data": {
            "text/plain": [
              "<matplotlib.axes._subplots.AxesSubplot at 0x7f72aec66c10>"
            ]
          },
          "metadata": {
            "tags": []
          },
          "execution_count": 57
        },
        {
          "output_type": "display_data",
          "data": {
            "image/png": "[encoded data removed]",
            "text/plain": [
              "<Figure size 1440x720 with 1 Axes>"
            ]
          },
          "metadata": {
            "tags": []
          }
        }
      ]
    },
    {
      "cell_type": "markdown",
      "metadata": {
        "id": "EGwDXslaOtRH"
      },
      "source": [
        "##### Grouped by Rural/Urban"
      ]
    },
    {
      "cell_type": "markdown",
      "metadata": {
        "id": "4V1sAzyrV_av"
      },
      "source": [
        "Relation between Toilet Facilitty & Wealth"
      ]
    },
    {
      "cell_type": "code",
      "metadata": {
        "colab": {
          "base_uri": "https://localhost:8080/",
          "height": 648
        },
        "id": "W57IdDPoV_bC",
        "outputId": "ea69dd69-a132-4306-ef99-a7b8607dbf4c"
      },
      "source": [
        "sns.boxplot(x=\"Toilet Facility\", \n",
        "            y=\"Wealth Index\",\n",
        "            hue='URBAN_RURA', \n",
        "            data=df)"
      ],
      "execution_count": 58,
      "outputs": [
        {
          "output_type": "execute_result",
          "data": {
            "text/plain": [
              "<matplotlib.axes._subplots.AxesSubplot at 0x7f72a550b4d0>"
            ]
          },
          "metadata": {
            "tags": []
          },
          "execution_count": 58
        },
        {
          "output_type": "display_data",
          "data": {
            "image/png": "[encoded data removed]",
            "text/plain": [
              "<Figure size 1440x720 with 1 Axes>"
            ]
          },
          "metadata": {
            "tags": []
          }
        }
      ]
    },
    {
      "cell_type": "markdown",
      "metadata": {
        "id": "x3m908c1V_bE"
      },
      "source": [
        "Relation between Roof Material & Wealth"
      ]
    },
    {
      "cell_type": "code",
      "metadata": {
        "colab": {
          "base_uri": "https://localhost:8080/",
          "height": 582
        },
        "id": "diDFsRUSV_bF",
        "outputId": "e0e7639f-6438-4513-8211-50f4eb1acfe4"
      },
      "source": [
        "sns.set(rc={'figure.figsize':(20, 10)})\n",
        "\n",
        "sns.boxplot(x=\"Roof Material\", \n",
        "            y=\"Wealth Index\",\n",
        "            hue='URBAN_RURA',  \n",
        "            data=df)"
      ],
      "execution_count": 59,
      "outputs": [
        {
          "output_type": "execute_result",
          "data": {
            "text/plain": [
              "<matplotlib.axes._subplots.AxesSubplot at 0x7f72a53b2210>"
            ]
          },
          "metadata": {
            "tags": []
          },
          "execution_count": 59
        },
        {
          "output_type": "display_data",
          "data": {
            "image/png": "[encoded data removed]",
            "text/plain": [
              "<Figure size 1440x720 with 1 Axes>"
            ]
          },
          "metadata": {
            "tags": []
          }
        }
      ]
    },
    {
      "cell_type": "markdown",
      "metadata": {
        "id": "XJ8kGapTV_bF"
      },
      "source": [
        "Relation between Electricity & Wealth"
      ]
    },
    {
      "cell_type": "code",
      "metadata": {
        "colab": {
          "base_uri": "https://localhost:8080/",
          "height": 582
        },
        "id": "9kx44PhLV_bG",
        "outputId": "8bd010b4-be7f-4984-d39d-a08e69324aba"
      },
      "source": [
        "sns.set(rc={'figure.figsize':(20, 10)})\n",
        "\n",
        "sns.boxplot(x=\"Electricity\", \n",
        "            y=\"Wealth Index\",\n",
        "            hue='URBAN_RURA',  \n",
        "            data=df)"
      ],
      "execution_count": 60,
      "outputs": [
        {
          "output_type": "execute_result",
          "data": {
            "text/plain": [
              "<matplotlib.axes._subplots.AxesSubplot at 0x7f72a51843d0>"
            ]
          },
          "metadata": {
            "tags": []
          },
          "execution_count": 60
        },
        {
          "output_type": "display_data",
          "data": {
            "image/png": "[encoded data removed]",
            "text/plain": [
              "<Figure size 1440x720 with 1 Axes>"
            ]
          },
          "metadata": {
            "tags": []
          }
        }
      ]
    },
    {
      "cell_type": "markdown",
      "metadata": {
        "id": "0ZvxIF27V_bH"
      },
      "source": [
        "Relation between Drinking Water & Wealth"
      ]
    },
    {
      "cell_type": "code",
      "metadata": {
        "colab": {
          "base_uri": "https://localhost:8080/",
          "height": 582
        },
        "id": "L6NnJrGRV_bH",
        "outputId": "18d03341-c815-458f-fe37-3ca11d680445"
      },
      "source": [
        "sns.set(rc={'figure.figsize':(20, 10)})\n",
        "\n",
        "sns.boxplot(x=\"Drinking Water\", \n",
        "            y=\"Wealth Index\",\n",
        "            hue='URBAN_RURA',  \n",
        "            data=df)"
      ],
      "execution_count": 61,
      "outputs": [
        {
          "output_type": "execute_result",
          "data": {
            "text/plain": [
              "<matplotlib.axes._subplots.AxesSubplot at 0x7f72a512a990>"
            ]
          },
          "metadata": {
            "tags": []
          },
          "execution_count": 61
        },
        {
          "output_type": "display_data",
          "data": {
            "image/png": "[encoded data removed]",
            "text/plain": [
              "<Figure size 1440x720 with 1 Axes>"
            ]
          },
          "metadata": {
            "tags": []
          }
        }
      ]
    },
    {
      "cell_type": "markdown",
      "metadata": {
        "id": "1KqVff47V_bI"
      },
      "source": [
        "Relation between Drinking Population Density & Wealth"
      ]
    },
    {
      "cell_type": "code",
      "metadata": {
        "colab": {
          "base_uri": "https://localhost:8080/",
          "height": 302
        },
        "id": "h7UQlMjtV_bJ",
        "outputId": "74aed296-3cef-49d6-a629-c96441324d3d"
      },
      "source": [
        "sns.set(rc={'figure.figsize':(5, 4)})\n",
        "\n",
        "sns.boxplot(x=\"Population_Density\", \n",
        "            y=\"Wealth Index\",  \n",
        "            data=df)"
      ],
      "execution_count": 62,
      "outputs": [
        {
          "output_type": "execute_result",
          "data": {
            "text/plain": [
              "<matplotlib.axes._subplots.AxesSubplot at 0x7f72a4e9df10>"
            ]
          },
          "metadata": {
            "tags": []
          },
          "execution_count": 62
        },
        {
          "output_type": "display_data",
          "data": {
            "image/png": "[encoded data removed]",
            "text/plain": [
              "<Figure size 360x288 with 1 Axes>"
            ]
          },
          "metadata": {
            "tags": []
          }
        }
      ]
    },
    {
      "cell_type": "markdown",
      "metadata": {
        "id": "ipKVvMnjbYrq"
      },
      "source": [
        "## Modelling & Evaluation"
      ]
    },
    {
      "cell_type": "markdown",
      "metadata": {
        "id": "wxrFU6e-bIna"
      },
      "source": [
        "\n",
        "This is a classification problem. Classification algorithms that might work:\n",
        "\n",
        "\n",
        "\n",
        "*   SVM\n",
        "*   Logistic Regression\n",
        "*   Decision Trees\n"
      ]
    },
    {
      "cell_type": "markdown",
      "metadata": {
        "id": "5AcNSLmCbtR4"
      },
      "source": [
        "### Preprocessing"
      ]
    },
    {
      "cell_type": "code",
      "metadata": {
        "colab": {
          "base_uri": "https://localhost:8080/"
        },
        "id": "6uaL1nK4cFLz",
        "outputId": "d5c41c02-f5e4-4546-b87b-c5b689f902d6"
      },
      "source": [
        "df.columns"
      ],
      "execution_count": 63,
      "outputs": [
        {
          "output_type": "execute_result",
          "data": {
            "text/plain": [
              "Index(['DHSCLUST', 'Wealth', 'Wealth Index', 'Toilet Facility',\n",
              "       'Roof Material', 'Electricity', 'Cooking Fuel', 'Drinking Water',\n",
              "       'URBAN_RURA', 'UN_Population_Density_2015', 'Population_Density'],\n",
              "      dtype='object')"
            ]
          },
          "metadata": {
            "tags": []
          },
          "execution_count": 63
        }
      ]
    },
    {
      "cell_type": "code",
      "metadata": {
        "colab": {
          "base_uri": "https://localhost:8080/"
        },
        "id": "z_FNihMTdsJo",
        "outputId": "1170287c-bc11-47e1-f08e-8e92c2cd4616"
      },
      "source": [
        "X = df[['Toilet Facility', \n",
        "       'Roof Material', \n",
        "       'Electricity', \n",
        "       'Cooking Fuel', \n",
        "       'Drinking Water', \n",
        "       'URBAN_RURA', \n",
        "       'Population_Density']].values\n",
        "    \n",
        "y = df['Wealth']\n",
        "\n",
        "y[0:5]"
      ],
      "execution_count": 64,
      "outputs": [
        {
          "output_type": "execute_result",
          "data": {
            "text/plain": [
              "0    richer\n",
              "1    middle\n",
              "2    middle\n",
              "3    middle\n",
              "4    middle\n",
              "Name: Wealth, dtype: object"
            ]
          },
          "metadata": {
            "tags": []
          },
          "execution_count": 64
        }
      ]
    },
    {
      "cell_type": "code",
      "metadata": {
        "colab": {
          "base_uri": "https://localhost:8080/"
        },
        "id": "RYTzj4_al158",
        "outputId": "1acf0e64-9fb0-43cd-e87b-1b3361a4260c"
      },
      "source": [
        "le_toilet_facility = preprocessing.LabelEncoder()\n",
        "le_toilet_facility.fit(['Flush', 'No Facility', 'Pit Latrine', 'Other'])\n",
        "X[:,0] = le_toilet_facility.transform(X[:,0]) \n",
        "\n",
        "le_roof_material = preprocessing.LabelEncoder()\n",
        "le_roof_material.fit(['Metal', 'Cement', 'Stones', 'Thatch/Palm', 'Tiles', 'Others', 'Mud', 'Bricks', 'Mat/Sheets', 'Wood', 'No Roof'])\n",
        "X[:,1] = le_roof_material.transform(X[:,1])\n",
        "\n",
        "le_electricity = preprocessing.LabelEncoder()\n",
        "le_electricity.fit(['yes', 'no'])\n",
        "X[:,2] = le_electricity.transform(X[:,2]) \n",
        "\n",
        "le_cooking_fuel = preprocessing.LabelEncoder()\n",
        "le_cooking_fuel.fit(['Petroleum', 'Wood/Straw', 'Electricity', 'Crops', 'Dung', 'Biogas', 'Coal'])\n",
        "X[:,3] = le_cooking_fuel.transform(X[:,3])\n",
        "\n",
        "le_drinking_water = preprocessing.LabelEncoder()\n",
        "le_drinking_water.fit(['Piped Water', 'Public Tap', 'Tube Well/Borehole', 'Well', 'Bottled', 'River/Dam/Lake', 'Ro Plant', 'Tanker', 'Spring', 'Other', 'Small Tank', 'Rainwater'])\n",
        "X[:,4] = le_drinking_water.transform(X[:,4])\n",
        "\n",
        "le_urban_rural = preprocessing.LabelEncoder()\n",
        "le_urban_rural.fit(['U', 'R'])\n",
        "X[:,5] = le_urban_rural.transform(X[:,5])\n",
        "\n",
        "le_population_density = preprocessing.LabelEncoder()\n",
        "le_population_density.fit(['Average', 'Very Low', 'Low', 'High', 'Very High'])\n",
        "X[:,6] = le_population_density.transform(X[:,6])\n",
        "\n",
        "X[:5]"
      ],
      "execution_count": 65,
      "outputs": [
        {
          "output_type": "execute_result",
          "data": {
            "text/plain": [
              "array([[0, 3, 1, 5, 2, 1, 0],\n",
              "       [0, 3, 1, 5, 2, 0, 4],\n",
              "       [0, 3, 1, 6, 2, 0, 4],\n",
              "       [0, 3, 1, 6, 2, 0, 4],\n",
              "       [0, 3, 1, 5, 2, 0, 4]], dtype=object)"
            ]
          },
          "metadata": {
            "tags": []
          },
          "execution_count": 65
        }
      ]
    },
    {
      "cell_type": "code",
      "metadata": {
        "colab": {
          "base_uri": "https://localhost:8080/"
        },
        "id": "UX2fEIRkr_xl",
        "outputId": "200ca3cd-319d-4d81-82b3-4ca8d765d486"
      },
      "source": [
        "y.unique()"
      ],
      "execution_count": 66,
      "outputs": [
        {
          "output_type": "execute_result",
          "data": {
            "text/plain": [
              "array(['richer', 'middle', 'poorer', 'poorest', 'richest'], dtype=object)"
            ]
          },
          "metadata": {
            "tags": []
          },
          "execution_count": 66
        }
      ]
    },
    {
      "cell_type": "code",
      "metadata": {
        "colab": {
          "base_uri": "https://localhost:8080/"
        },
        "id": "-9BX1jRHr367",
        "outputId": "aa4a003d-74d3-4a1e-d0de-695343cce899"
      },
      "source": [
        "le_wealth = preprocessing.LabelEncoder()\n",
        "le_wealth.fit(['richer', 'middle', 'poorest', 'poorer', 'richest'])\n",
        "y = le_wealth.transform(y)\n",
        "y[:5]\n",
        "#le_wealth"
      ],
      "execution_count": 67,
      "outputs": [
        {
          "output_type": "execute_result",
          "data": {
            "text/plain": [
              "array([3, 0, 0, 0, 0])"
            ]
          },
          "metadata": {
            "tags": []
          },
          "execution_count": 67
        }
      ]
    },
    {
      "cell_type": "code",
      "metadata": {
        "colab": {
          "base_uri": "https://localhost:8080/"
        },
        "id": "XwHF61YMbvb1",
        "outputId": "9dcdfb71-7a60-4f17-a969-2ace4f2f07e9"
      },
      "source": [
        "# test-train split\n",
        "X_trainset, X_testset, y_trainset, y_testset = train_test_split(X, y, test_size=0.3, random_state=3)\n",
        "print('Shape of X_trainset :',X_trainset.shape,'\\nShape of y_trainset :',y_trainset.shape)"
      ],
      "execution_count": 68,
      "outputs": [
        {
          "output_type": "stream",
          "text": [
            "Shape of X_trainset : (19869, 7) \n",
            "Shape of y_trainset : (19869,)\n"
          ],
          "name": "stdout"
        }
      ]
    },
    {
      "cell_type": "code",
      "metadata": {
        "colab": {
          "base_uri": "https://localhost:8080/"
        },
        "id": "ABH3AH8bqcMn",
        "outputId": "2e8c8e8f-fd4a-474b-f17e-1985f241f2a6"
      },
      "source": [
        "X_trainset"
      ],
      "execution_count": 69,
      "outputs": [
        {
          "output_type": "execute_result",
          "data": {
            "text/plain": [
              "array([[1, 1, 1, ..., 10, 0, 0],\n",
              "       [1, 7, 1, ..., 3, 0, 4],\n",
              "       [0, 1, 1, ..., 2, 1, 1],\n",
              "       ...,\n",
              "       [1, 6, 0, ..., 11, 0, 2],\n",
              "       [0, 3, 1, ..., 10, 0, 1],\n",
              "       [0, 1, 1, ..., 2, 1, 1]], dtype=object)"
            ]
          },
          "metadata": {
            "tags": []
          },
          "execution_count": 69
        }
      ]
    },
    {
      "cell_type": "code",
      "metadata": {
        "id": "HQS2s8KDg9sH"
      },
      "source": [
        "# to measure performance\n",
        "def evaluate_ai (y_testset, y_hat):\n",
        "    print(\"AI's Accuracy: \", round(metrics.accuracy_score(y_testset, y_hat),2))\n",
        "    print(\"AI's Jaccard Similarity Index: \", round(jaccard_score(y_testset, y_hat, average='weighted'),2))\n",
        "    print(\"AI's F1 Score : \", round(f1_score(y_testset, y_hat, average='weighted'),2))\n",
        "    #print(\"AI's Log Loss: \", round(log_loss(y_testset, y_hat),2))\n",
        "    print(\"AI's MAE: \", round(mean_absolute_error(y_testset, y_hat),2))"
      ],
      "execution_count": 70,
      "outputs": []
    },
    {
      "cell_type": "markdown",
      "metadata": {
        "id": "CuV8J400bqIR"
      },
      "source": [
        "### SVM"
      ]
    },
    {
      "cell_type": "code",
      "metadata": {
        "colab": {
          "base_uri": "https://localhost:8080/"
        },
        "id": "qxKu5nb4gU4H",
        "outputId": "e6bbd11b-308d-4de9-88f7-1ef80db52e48"
      },
      "source": [
        "clf = svm.SVC(kernel='linear', gamma = 'auto')\n",
        "clf.fit(X_trainset,y_trainset)\n",
        "y_hat = clf.predict(X_testset)  \n",
        "evaluate_ai(y_testset, y_hat)"
      ],
      "execution_count": 71,
      "outputs": [
        {
          "output_type": "stream",
          "text": [
            "AI's Accuracy:  0.49\n",
            "AI's Jaccard Similarity Index:  0.31\n",
            "AI's F1 Score :  0.44\n",
            "AI's MAE:  0.9\n"
          ],
          "name": "stdout"
        }
      ]
    },
    {
      "cell_type": "code",
      "metadata": {
        "colab": {
          "base_uri": "https://localhost:8080/"
        },
        "id": "SlSOlVPxuHkn",
        "outputId": "6caf0dc5-aa98-41ed-cd67-9edef6616a9f"
      },
      "source": [
        "mean_absolute_error(y_hat, y_testset)"
      ],
      "execution_count": 72,
      "outputs": [
        {
          "output_type": "execute_result",
          "data": {
            "text/plain": [
              "0.9000704556129638"
            ]
          },
          "metadata": {
            "tags": []
          },
          "execution_count": 72
        }
      ]
    },
    {
      "cell_type": "markdown",
      "metadata": {
        "id": "X5wEm2f9Kasn"
      },
      "source": [
        "### Decision Tree"
      ]
    },
    {
      "cell_type": "code",
      "metadata": {
        "colab": {
          "base_uri": "https://localhost:8080/",
          "height": 360
        },
        "id": "l3FNHt_c_U9P",
        "outputId": "defd07fc-9069-44c3-e4d7-330900479e67"
      },
      "source": [
        "\n",
        "Ks = 12\n",
        "mean_acc= np.zeros((Ks-1))\n",
        "std_acc = np.zeros((Ks-1))\n",
        "ConfustionMx = [];\n",
        "for n in range(1,Ks):\n",
        "    \n",
        "    #Train Model and Predict  \n",
        "    k_hunter = DecisionTreeClassifier(criterion=\"entropy\", max_depth = n).fit(X_trainset,y_trainset)\n",
        "    y_hat2=k_hunter.predict(X_testset)\n",
        "    mean_acc[n-1] = accuracy_score(y_testset, y_hat2)\n",
        "    std_acc[n-1]=np.std(y_hat2==y_testset)/np.sqrt(y_hat2.shape[0])\n",
        "\n",
        "plt.plot(range(1,Ks),mean_acc,'g')\n",
        "plt.fill_between(range(1,Ks),mean_acc - 1 * std_acc,mean_acc + 1 * std_acc, alpha=0.10)\n",
        "plt.legend(('Accuracy Score ', '+/- 3xstd'))\n",
        "plt.ylabel('Accuracy Score')\n",
        "plt.xlabel('Depth')\n",
        "plt.tight_layout()\n",
        "plt.show()\n",
        "\n",
        "Tree_optimizers = []\n",
        "for i in range(0,len(mean_acc)):\n",
        "    if mean_acc[i] == mean_acc.max():\n",
        "        Tree_optimizers.append(i)\n",
        "        print('Depth With Max Accuracy :',i,'\\nMax accuracy :',mean_acc.max())\n",
        "\n",
        "print('\\n')\n",
        "depth_optimized = Tree_optimizers[0]\n",
        "Tree_optimized = DecisionTreeClassifier(criterion=\"entropy\", max_depth = depth_optimized)\n",
        "Tree_optimized.fit(X_trainset,y_trainset)\n",
        "y_hat_optimized = Tree_optimized.predict(X_testset)"
      ],
      "execution_count": 73,
      "outputs": [
        {
          "output_type": "display_data",
          "data": {
            "image/png": "[encoded data removed]",
            "text/plain": [
              "<Figure size 360x288 with 1 Axes>"
            ]
          },
          "metadata": {
            "tags": []
          }
        },
        {
          "output_type": "stream",
          "text": [
            "Depth With Max Accuracy : 10 \n",
            "Max accuracy : 0.5971113198684829\n",
            "\n",
            "\n"
          ],
          "name": "stdout"
        }
      ]
    },
    {
      "cell_type": "code",
      "metadata": {
        "colab": {
          "base_uri": "https://localhost:8080/"
        },
        "id": "Bs7-tyebA4gp",
        "outputId": "5730aaae-cdce-467c-d385-6886b8f2fd4f"
      },
      "source": [
        "# Build the model\n",
        "DTree = DecisionTreeClassifier(criterion=\"entropy\", max_depth = 9)\n",
        "DTree # it shows the default parameters\n",
        "\n",
        "# Fit the model\n",
        "DTree.fit(X_trainset,y_trainset)\n",
        "\n",
        "# Make predictions\n",
        "predTree = DTree.predict(X_testset)\n",
        "evaluate_ai (y_testset, predTree)"
      ],
      "execution_count": 74,
      "outputs": [
        {
          "output_type": "stream",
          "text": [
            "AI's Accuracy:  0.59\n",
            "AI's Jaccard Similarity Index:  0.43\n",
            "AI's F1 Score :  0.58\n",
            "AI's MAE:  0.65\n"
          ],
          "name": "stdout"
        }
      ]
    },
    {
      "cell_type": "markdown",
      "metadata": {
        "id": "-POxwd8fKen5"
      },
      "source": [
        "### Classification via Neural Network"
      ]
    },
    {
      "cell_type": "code",
      "metadata": {
        "id": "3xMqD-RVKh2p"
      },
      "source": [
        ""
      ],
      "execution_count": 74,
      "outputs": []
    }
  ]
}