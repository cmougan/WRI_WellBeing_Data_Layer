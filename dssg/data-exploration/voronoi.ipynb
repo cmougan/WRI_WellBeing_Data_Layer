{
 "metadata": {
  "language_info": {
   "codemirror_mode": {
    "name": "ipython",
    "version": 3
   },
   "file_extension": ".py",
   "mimetype": "text/x-python",
   "name": "python",
   "nbconvert_exporter": "python",
   "pygments_lexer": "ipython3",
   "version": "3.8.5-final"
  },
  "orig_nbformat": 2,
  "kernelspec": {
   "name": "python38564bitwriindiaexthyhlp5re4d96c4cb0fb248a699be028bbf9263df",
   "display_name": "Python 3.8.5 64-bit ('WRI_India_ext-hyHLP5Re')",
   "language": "python"
  }
 },
 "nbformat": 4,
 "nbformat_minor": 2,
 "cells": [
  {
   "cell_type": "code",
   "execution_count": null,
   "metadata": {},
   "outputs": [],
   "source": [
    "import geopandas as gpd \n",
    "import os\n",
    "from dotenv import load_dotenv\n",
    "load_dotenv()"
   ]
  },
  {
   "cell_type": "code",
   "execution_count": null,
   "metadata": {},
   "outputs": [],
   "source": [
    "# Import the voronoi shape of India\n",
    "import dssg.dataio.osm_to_voronoi_mapping as ovm\n",
    "data_dir = os.environ.get(\"DATA_DIR\")\n",
    "india_voronoi_gpd = gpd.read_file(data_dir + \"voronoi3_clip/voronoi3_clip.shp\")"
   ]
  },
  {
   "cell_type": "code",
   "execution_count": null,
   "metadata": {},
   "outputs": [],
   "source": [
    "india_voronoi_gpd.head()"
   ]
  },
  {
   "cell_type": "code",
   "execution_count": null,
   "metadata": {},
   "outputs": [],
   "source": [
    "import dssg.dataio.osm_data_extraction as ode\n",
    "india_shape = os.environ.get(\"DATA_DIR\") + \"/gadm36_shp/gadm36_IND_2.shp\""
   ]
  },
  {
   "cell_type": "code",
   "execution_count": null,
   "metadata": {},
   "outputs": [],
   "source": [
    "%%prun -s cumulative -q -l 10 -T ../profile/extract_district_dataframe\n",
    "import matplotlib.pyplot as plt \n",
    "%matplotlib inline\n",
    "india_gpd = gpd.read_file(india_shape)\n",
    "#Extract a district from gadm36_IND_2.shp file\n",
    "araria_gdf = ode.extract_district_dataframe(india_gpd, 'Araria')"
   ]
  },
  {
   "cell_type": "code",
   "execution_count": null,
   "metadata": {},
   "outputs": [],
   "source": [
    "print(open('../profile/extract_district_dataframe', 'r').read())"
   ]
  },
  {
   "cell_type": "code",
   "execution_count": null,
   "metadata": {},
   "outputs": [],
   "source": [
    "%%prun -s cumulative -q -l 10 -T ../profile/extract_district_voronoi_clipped\n",
    "#Extract the GeoDataFrame of the voronoi clipped to the district boundary\n",
    "araria_voronoi_gpd_clipped = ovm.extract_district_voronoi_clipped(india_voronoi_gpd, araria_gdf)"
   ]
  },
  {
   "cell_type": "code",
   "execution_count": null,
   "metadata": {},
   "outputs": [],
   "source": [
    "print(open('../profile/extract_district_voronoi_clipped', 'r').read())"
   ]
  },
  {
   "cell_type": "code",
   "execution_count": null,
   "metadata": {},
   "outputs": [],
   "source": [
    "ovm.plot_district_voronoi(araria_voronoi_gpd_clipped, \"Araria\")"
   ]
  },
  {
   "cell_type": "code",
   "execution_count": null,
   "metadata": {},
   "outputs": [],
   "source": [
    "araria_voronoi_gpd_clipped.head()"
   ]
  },
  {
   "cell_type": "code",
   "execution_count": null,
   "metadata": {},
   "outputs": [],
   "source": [
    "#%%prun -s cumulative -q -l 10 -T ../profile/extract_district_voronoi\n",
    "#araria_voronoi_gpd = ovm.extract_district_voronoi(india_voronoi_gpd, araria_gdf)"
   ]
  },
  {
   "cell_type": "code",
   "execution_count": null,
   "metadata": {},
   "outputs": [],
   "source": [
    "#print(open('../profile/extract_district_voronoi', 'r').read())"
   ]
  },
  {
   "cell_type": "code",
   "execution_count": null,
   "metadata": {},
   "outputs": [],
   "source": [
    "#araria_voronoi_gpd.head()"
   ]
  },
  {
   "cell_type": "code",
   "execution_count": null,
   "metadata": {},
   "outputs": [],
   "source": [
    "#ovm.plot_district_voronoi(araria_voronoi_gpd, \"Araria\")"
   ]
  },
  {
   "cell_type": "code",
   "execution_count": null,
   "metadata": {},
   "outputs": [],
   "source": [
    "%%prun -s cumulative -q -l 10 -T ../profile/extract_district_voronoi_wo_clipping\n",
    "araria_voronoi_joined = ovm.extract_district_voronoi_wo_clipping(india_voronoi_gpd, araria_gdf)"
   ]
  },
  {
   "cell_type": "code",
   "execution_count": null,
   "metadata": {},
   "outputs": [],
   "source": [
    "araria_voronoi_joined.head()"
   ]
  },
  {
   "cell_type": "code",
   "execution_count": null,
   "metadata": {},
   "outputs": [],
   "source": [
    "print(open('../profile/extract_district_voronoi_wo_clipping', 'r').read())"
   ]
  },
  {
   "cell_type": "code",
   "execution_count": null,
   "metadata": {},
   "outputs": [],
   "source": [
    "\n",
    "ovm.plot_district_voronoi(araria_voronoi_joined, \"Araria\")"
   ]
  },
  {
   "cell_type": "code",
   "execution_count": null,
   "metadata": {},
   "outputs": [],
   "source": [
    "#Write the district voronoi geodataframe to a file\n",
    "ovm.write_district_voronoi_to_shapefile(araria_voronoi_joined, os.environ.get(\"DATA_DIR\") + \"/voronoi3_clip/araria-voronoi.shp\")"
   ]
  },
  {
   "cell_type": "code",
   "execution_count": null,
   "metadata": {},
   "outputs": [],
   "source": [
    "# Extract OSM dataframe based on voronoi boundary of the district to prepare to get osm data.\n",
    "from shapely.geometry import mapping, Polygon\n",
    "import osmnx as ox \n",
    "# Date based extraction of polygon and graph\n",
    "cs = '[out:json][timeout:180][date:\"2021-03-01T00:00:00Z\"]'\n",
    "(araria_voronoi_poly, araria_voronoi_graph) = ode.create_knots_and_edges_from_boundary(araria_voronoi_joined, cs)\n"
   ]
  },
  {
   "cell_type": "code",
   "execution_count": null,
   "metadata": {},
   "outputs": [],
   "source": [
    "import osmnx as ox\n",
    "araria_voronoi_kefig, araria_voronoi_ax = ox.plot_graph(araria_voronoi_graph)\n",
    "plt.tight_layout()"
   ]
  },
  {
   "cell_type": "code",
   "execution_count": null,
   "metadata": {},
   "outputs": [],
   "source": [
    "tags = {'amenity':True, 'building':True, 'emergency':True, 'highway':True, 'footway':True, 'landuse': True, 'water': True}\n",
    "araria_voronoi_osmdf = ode.extract_osm_csv(araria_voronoi_poly, tags)"
   ]
  },
  {
   "cell_type": "code",
   "execution_count": null,
   "metadata": {},
   "outputs": [],
   "source": [
    "araria_voronoi_osmdf.head()"
   ]
  },
  {
   "cell_type": "code",
   "execution_count": null,
   "metadata": {},
   "outputs": [],
   "source": [
    "araria_voronoi_osmdf.shape"
   ]
  },
  {
   "cell_type": "code",
   "execution_count": null,
   "metadata": {},
   "outputs": [],
   "source": [
    "print(type(araria_voronoi_osmdf))"
   ]
  },
  {
   "cell_type": "code",
   "execution_count": null,
   "metadata": {},
   "outputs": [],
   "source": [
    "araria_voronoi_osmdf.to_csv(os.environ.get(\"OSM_DIR\") + \"/araria_voronoi_osm.csv\")"
   ]
  },
  {
   "cell_type": "code",
   "execution_count": null,
   "metadata": {},
   "outputs": [],
   "source": [
    "#How to read the araria_voronoi_osm csv file into a geodataframe\n",
    "from shapely import wkt\n",
    "import pandas as pd \n",
    "araria_voronoi_osm_df = pd.read_csv(os.environ.get(\"OSM_DIR\") + \"/araria_voronoi_osm.csv\", low_memory=False)\n",
    "araria_voronoi_osm_df['geometry'] = araria_voronoi_osm_df['geometry'].apply(wkt.loads)\n",
    "araria_voronoi_osm_gdf = gpd.GeoDataFrame(araria_voronoi_osm_df, geometry='geometry')"
   ]
  },
  {
   "cell_type": "code",
   "execution_count": null,
   "metadata": {},
   "outputs": [],
   "source": [
    "import pandas as pd \n",
    "osm_dhs_df = pd.DataFrame(columns=['OSMID', 'DHSID', 'DHSCLUST', 'DISTRICTID'])\n",
    "osm_dhs_df.head()"
   ]
  },
  {
   "cell_type": "code",
   "execution_count": null,
   "metadata": {},
   "outputs": [],
   "source": [
    "pt_count = 0\n",
    "poly_count = 0\n",
    "ln_str_count = 0\n",
    "mp_count = 0\n",
    "for index, row in araria_voronoi_osm_gdf.iterrows():\n",
    "    if row.geometry.geom_type == 'Point':\n",
    "        pt_count += 1\n",
    "        for ind, ro in araria_voronoi_joined.iterrows():\n",
    "            if ro.geometry.contains(row.geometry):\n",
    "                osm_dhs_df = osm_dhs_df.append({'OSMID':row.osmid, 'DHSID':ro.DHSID, 'DHSCLUST': ro.DHSCLUST, 'DISTRICTID': ro.index_right},    ignore_index=True)\n",
    "                break\n",
    "    elif row.geometry.geom_type == 'Polygon':\n",
    "        poly_count += 1\n",
    "        for ind, ro in araria_voronoi_joined.iterrows():\n",
    "            if ro.geometry.contains(row.geometry.centroid):\n",
    "                osm_dhs_df = osm_dhs_df.append({'OSMID':row.osmid, 'DHSID':ro.DHSID, 'DHSCLUST': ro.DHSCLUST, 'DISTRICTID': ro.index_right}, ignore_index=True)\n",
    "                break\n",
    "    elif row.geometry.geom_type == 'LineString':\n",
    "        ln_str_count += 1\n",
    "    elif row.geometry.geom_type == 'MultiPolygon':\n",
    "        mp_count += 1\n",
    "\n",
    "print(\"Total Pts = \", pt_count)\n",
    "print(\"Total Polylines = \", ln_str_count)\n",
    "print(\"Total polygons = \", poly_count)\n",
    "print(\"Total Multi Polygons = \", mp_count)"
   ]
  },
  {
   "cell_type": "code",
   "execution_count": null,
   "metadata": {},
   "outputs": [],
   "source": [
    "osm_dhs_df.shape"
   ]
  },
  {
   "cell_type": "code",
   "execution_count": null,
   "metadata": {},
   "outputs": [],
   "source": [
    "print(osm_dhs_df)"
   ]
  },
  {
   "cell_type": "code",
   "execution_count": null,
   "metadata": {},
   "outputs": [],
   "source": [
    "osm_dhs_df.to_csv(os.environ.get(\"OSM_DIR\") + \"/araria-osm-dhs.csv\")"
   ]
  },
  {
   "cell_type": "code",
   "execution_count": null,
   "metadata": {},
   "outputs": [],
   "source": [
    "fig = plt.figure(num=None, figsize=(20,20))\n",
    "ax = araria_voronoi_joined['geometry'].boundary.plot()\n",
    "araria_voronoi_osmdf['geometry'].plot(ax=ax, linewidth=1, color='red', markersize=10, marker='o')"
   ]
  },
  {
   "cell_type": "code",
   "execution_count": null,
   "metadata": {},
   "outputs": [],
   "source": []
  }
 ]
}