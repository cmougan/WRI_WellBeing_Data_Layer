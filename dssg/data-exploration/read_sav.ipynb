{
 "metadata": {
  "language_info": {
   "codemirror_mode": {
    "name": "ipython",
    "version": 3
   },
   "file_extension": ".py",
   "mimetype": "text/x-python",
   "name": "python",
   "nbconvert_exporter": "python",
   "pygments_lexer": "ipython3",
   "version": "3.9.0"
  },
  "orig_nbformat": 2,
  "kernelspec": {
   "name": "python385jvsc74a57bd0d4a53db61837b04487d02c25116133aa28f6a79c740d093360b2328df5f2ed08",
   "display_name": "Python 3.9.0 64-bit ('WRI_WellBeing_Data_Layer': pipenv)"
  },
  "metadata": {
   "interpreter": {
    "hash": "d4a53db61837b04487d02c25116133aa28f6a79c740d093360b2328df5f2ed08"
   }
  }
 },
 "nbformat": 4,
 "nbformat_minor": 2,
 "cells": [
  {
   "cell_type": "code",
   "execution_count": 1,
   "metadata": {},
   "outputs": [],
   "source": [
    "from dotenv import load_dotenv\n",
    "load_dotenv()\n",
    "import dssg.dataio.data_prep_voronoi as dpv"
   ]
  },
  {
   "cell_type": "code",
   "execution_count": 2,
   "metadata": {},
   "outputs": [],
   "source": [
    "data_dir = os.environ.get(\"DATA_DIR\")\n",
    "sav_file = data_dir + \"DHS-Raw-Data/IAHR74SV_household_recode/IAHR74FL.SAV\""
   ]
  },
  {
   "cell_type": "code",
   "execution_count": 4,
   "metadata": {},
   "outputs": [],
   "source": [
    "df = dpv.read_and_reduce_sav(sav_file)"
   ]
  },
  {
   "cell_type": "code",
   "execution_count": 6,
   "metadata": {},
   "outputs": [
    {
     "output_type": "execute_result",
     "data": {
      "text/plain": [
       "(28524, 3)"
      ]
     },
     "metadata": {},
     "execution_count": 6
    }
   ],
   "source": [
    "df.shape"
   ]
  },
  {
   "cell_type": "code",
   "execution_count": 7,
   "metadata": {},
   "outputs": [
    {
     "output_type": "execute_result",
     "data": {
      "text/plain": [
       "   DHSCLUST   HV270          HV271\n",
       "0   10001.0  Richer  107648.636364\n",
       "1   10002.0  Middle   25279.409091\n",
       "2   10003.0  Middle    4725.681818\n",
       "3   10004.0  Middle   17484.909091\n",
       "4   10005.0  Middle   25083.454545"
      ],
      "text/html": "<div>\n<style scoped>\n    .dataframe tbody tr th:only-of-type {\n        vertical-align: middle;\n    }\n\n    .dataframe tbody tr th {\n        vertical-align: top;\n    }\n\n    .dataframe thead th {\n        text-align: right;\n    }\n</style>\n<table border=\"1\" class=\"dataframe\">\n  <thead>\n    <tr style=\"text-align: right;\">\n      <th></th>\n      <th>DHSCLUST</th>\n      <th>HV270</th>\n      <th>HV271</th>\n    </tr>\n  </thead>\n  <tbody>\n    <tr>\n      <th>0</th>\n      <td>10001.0</td>\n      <td>Richer</td>\n      <td>107648.636364</td>\n    </tr>\n    <tr>\n      <th>1</th>\n      <td>10002.0</td>\n      <td>Middle</td>\n      <td>25279.409091</td>\n    </tr>\n    <tr>\n      <th>2</th>\n      <td>10003.0</td>\n      <td>Middle</td>\n      <td>4725.681818</td>\n    </tr>\n    <tr>\n      <th>3</th>\n      <td>10004.0</td>\n      <td>Middle</td>\n      <td>17484.909091</td>\n    </tr>\n    <tr>\n      <th>4</th>\n      <td>10005.0</td>\n      <td>Middle</td>\n      <td>25083.454545</td>\n    </tr>\n  </tbody>\n</table>\n</div>"
     },
     "metadata": {},
     "execution_count": 7
    }
   ],
   "source": [
    "df.head()"
   ]
  },
  {
   "cell_type": "code",
   "execution_count": 8,
   "metadata": {},
   "outputs": [],
   "source": [
    "# Combine weighted voronoi shape file with df1\n",
    "import geopandas as gpd\n",
    "india_voronoi_shp = data_dir + \"voronoi/IAGE71FL_Voronoi_Clipped/IAGE71FL_Voronoi_Clipped.shp\""
   ]
  },
  {
   "cell_type": "code",
   "execution_count": 9,
   "metadata": {},
   "outputs": [],
   "source": [
    "india_voronoi_merged_gpd = dpv.merge_clipped_voronoi_and_wealth_index(india_voronoi_shp, df)"
   ]
  },
  {
   "cell_type": "code",
   "execution_count": 10,
   "metadata": {},
   "outputs": [
    {
     "output_type": "execute_result",
     "data": {
      "text/plain": [
       "            DHSID  DHSCLUST  ADM1DHS  DHSREGCO     DHSREGNA URBAN_RURA  \\\n",
       "0  IA201400310502  310502.0     31.0     602.0  Thiruvallur          R   \n",
       "1  IA201400310190  310190.0     31.0     602.0  Thiruvallur          R   \n",
       "2  IA201400310070  310070.0     31.0     602.0  Thiruvallur          R   \n",
       "3  IA201400310716  310716.0     31.0     602.0  Thiruvallur          R   \n",
       "4  IA201400310592  310592.0     31.0     602.0  Thiruvallur          R   \n",
       "\n",
       "      LATNUM    LONGNUM  ALT_DEM  DATUM   WEIGHT  \\\n",
       "0  13.320202  80.010414     39.0  WGS84  0.04504   \n",
       "1  13.118380  79.803917     56.0  WGS84  0.04504   \n",
       "2  13.147002  79.804755     44.0  WGS84  0.04504   \n",
       "3  13.263585  80.188453     14.0  WGS84  0.04504   \n",
       "4  13.261215  80.222348     18.0  WGS84  0.04504   \n",
       "\n",
       "                                            geometry   HV270         HV271  \n",
       "0  POLYGON ((79.95699 13.28227, 79.95030 13.37055...  Poorer   2846.727273  \n",
       "1  POLYGON ((79.77943 12.97075, 79.71600 12.99485...  Middle  32007.000000  \n",
       "2  POLYGON ((79.83122 13.24096, 79.87546 13.14136...  Richer -20213.045455  \n",
       "3  POLYGON ((80.20192 13.21268, 80.10237 13.25050...  Richer  13922.863636  \n",
       "4  POLYGON ((80.27104 13.24175, 80.20483 13.20947...  Middle  25076.500000  "
      ],
      "text/html": "<div>\n<style scoped>\n    .dataframe tbody tr th:only-of-type {\n        vertical-align: middle;\n    }\n\n    .dataframe tbody tr th {\n        vertical-align: top;\n    }\n\n    .dataframe thead th {\n        text-align: right;\n    }\n</style>\n<table border=\"1\" class=\"dataframe\">\n  <thead>\n    <tr style=\"text-align: right;\">\n      <th></th>\n      <th>DHSID</th>\n      <th>DHSCLUST</th>\n      <th>ADM1DHS</th>\n      <th>DHSREGCO</th>\n      <th>DHSREGNA</th>\n      <th>URBAN_RURA</th>\n      <th>LATNUM</th>\n      <th>LONGNUM</th>\n      <th>ALT_DEM</th>\n      <th>DATUM</th>\n      <th>WEIGHT</th>\n      <th>geometry</th>\n      <th>HV270</th>\n      <th>HV271</th>\n    </tr>\n  </thead>\n  <tbody>\n    <tr>\n      <th>0</th>\n      <td>IA201400310502</td>\n      <td>310502.0</td>\n      <td>31.0</td>\n      <td>602.0</td>\n      <td>Thiruvallur</td>\n      <td>R</td>\n      <td>13.320202</td>\n      <td>80.010414</td>\n      <td>39.0</td>\n      <td>WGS84</td>\n      <td>0.04504</td>\n      <td>POLYGON ((79.95699 13.28227, 79.95030 13.37055...</td>\n      <td>Poorer</td>\n      <td>2846.727273</td>\n    </tr>\n    <tr>\n      <th>1</th>\n      <td>IA201400310190</td>\n      <td>310190.0</td>\n      <td>31.0</td>\n      <td>602.0</td>\n      <td>Thiruvallur</td>\n      <td>R</td>\n      <td>13.118380</td>\n      <td>79.803917</td>\n      <td>56.0</td>\n      <td>WGS84</td>\n      <td>0.04504</td>\n      <td>POLYGON ((79.77943 12.97075, 79.71600 12.99485...</td>\n      <td>Middle</td>\n      <td>32007.000000</td>\n    </tr>\n    <tr>\n      <th>2</th>\n      <td>IA201400310070</td>\n      <td>310070.0</td>\n      <td>31.0</td>\n      <td>602.0</td>\n      <td>Thiruvallur</td>\n      <td>R</td>\n      <td>13.147002</td>\n      <td>79.804755</td>\n      <td>44.0</td>\n      <td>WGS84</td>\n      <td>0.04504</td>\n      <td>POLYGON ((79.83122 13.24096, 79.87546 13.14136...</td>\n      <td>Richer</td>\n      <td>-20213.045455</td>\n    </tr>\n    <tr>\n      <th>3</th>\n      <td>IA201400310716</td>\n      <td>310716.0</td>\n      <td>31.0</td>\n      <td>602.0</td>\n      <td>Thiruvallur</td>\n      <td>R</td>\n      <td>13.263585</td>\n      <td>80.188453</td>\n      <td>14.0</td>\n      <td>WGS84</td>\n      <td>0.04504</td>\n      <td>POLYGON ((80.20192 13.21268, 80.10237 13.25050...</td>\n      <td>Richer</td>\n      <td>13922.863636</td>\n    </tr>\n    <tr>\n      <th>4</th>\n      <td>IA201400310592</td>\n      <td>310592.0</td>\n      <td>31.0</td>\n      <td>602.0</td>\n      <td>Thiruvallur</td>\n      <td>R</td>\n      <td>13.261215</td>\n      <td>80.222348</td>\n      <td>18.0</td>\n      <td>WGS84</td>\n      <td>0.04504</td>\n      <td>POLYGON ((80.27104 13.24175, 80.20483 13.20947...</td>\n      <td>Middle</td>\n      <td>25076.500000</td>\n    </tr>\n  </tbody>\n</table>\n</div>"
     },
     "metadata": {},
     "execution_count": 10
    }
   ],
   "source": [
    "india_voronoi_merged_gpd.head()"
   ]
  },
  {
   "cell_type": "code",
   "execution_count": 11,
   "metadata": {},
   "outputs": [],
   "source": [
    "#Write to shape file\n",
    "india_voronoi_merged_gpd.to_file(data_dir + \"voronoi/IAGE71FL_Voronoi_Clipped/IAGE71FL_Voronoi_IAHR74FL_Wealth.shp\")"
   ]
  },
  {
   "cell_type": "code",
   "execution_count": null,
   "metadata": {},
   "outputs": [],
   "source": []
  }
 ]
}