{
 "metadata": {
  "language_info": {
   "codemirror_mode": {
    "name": "ipython",
    "version": 3
   },
   "file_extension": ".py",
   "mimetype": "text/x-python",
   "name": "python",
   "nbconvert_exporter": "python",
   "pygments_lexer": "ipython3",
   "version": "3.8.5-final"
  },
  "orig_nbformat": 2,
  "kernelspec": {
   "name": "python38564bitwriindiaexthyhlp5re4d96c4cb0fb248a699be028bbf9263df",
   "display_name": "Python 3.8.5 64-bit ('WRI_India_ext-hyHLP5Re')",
   "language": "python"
  }
 },
 "nbformat": 4,
 "nbformat_minor": 2,
 "cells": [
  {
   "cell_type": "code",
   "execution_count": null,
   "metadata": {},
   "outputs": [],
   "source": [
    "import geopandas as gpd \n",
    "import os\n",
    "from dotenv import load_dotenv\n",
    "load_dotenv()"
   ]
  },
  {
   "cell_type": "code",
   "execution_count": null,
   "metadata": {},
   "outputs": [],
   "source": [
    "# Import the voronoi shape of India\n",
    "import dssg.dataio.osm_to_voronoi_mapping as ovm\n",
    "data_dir = os.environ.get(\"DATA_DIR\")\n",
    "india_voronoi_gpd = gpd.read_file(data_dir + \"voronoi3_clip/voronoi3_clip.shp\")"
   ]
  },
  {
   "cell_type": "code",
   "execution_count": null,
   "metadata": {},
   "outputs": [],
   "source": [
    "india_voronoi_gpd.head()"
   ]
  },
  {
   "cell_type": "code",
   "execution_count": null,
   "metadata": {},
   "outputs": [],
   "source": [
    "import dssg.dataio.osm_data_extraction as ode\n",
    "india_shape = os.environ.get(\"DATA_DIR\") + \"/gadm36_shp/gadm36_IND_2.shp\""
   ]
  },
  {
   "cell_type": "code",
   "execution_count": null,
   "metadata": {},
   "outputs": [],
   "source": [
    "%%prun -s cumulative -q -l 10 -T ../profile/extract_district_dataframe\n",
    "import matplotlib.pyplot as plt \n",
    "%matplotlib inline\n",
    "india_gpd = gpd.read_file(india_shape)\n",
    "#Extract a district from gadm36_IND_2.shp file\n",
    "araria_gdf = ode.extract_district_dataframe(india_gpd, 'Araria')"
   ]
  },
  {
   "cell_type": "code",
   "execution_count": null,
   "metadata": {},
   "outputs": [],
   "source": [
    "print(open('../profile/extract_district_dataframe', 'r').read())"
   ]
  },
  {
   "cell_type": "code",
   "execution_count": null,
   "metadata": {},
   "outputs": [],
   "source": [
    "%%prun -s cumulative -q -l 10 -T ../profile/extract_district_voronoi_clipped\n",
    "#Extract the GeoDataFrame of the voronoi clipped to the district boundary\n",
    "araria_voronoi_gpd_clipped = ovm.extract_district_voronoi_clipped(india_voronoi_gpd, araria_gdf)"
   ]
  },
  {
   "cell_type": "code",
   "execution_count": null,
   "metadata": {},
   "outputs": [],
   "source": [
    "print(open('../profile/extract_district_voronoi_clipped', 'r').read())"
   ]
  },
  {
   "cell_type": "code",
   "execution_count": null,
   "metadata": {},
   "outputs": [],
   "source": [
    "ovm.plot_district_voronoi(araria_voronoi_gpd_clipped, \"Araria\")"
   ]
  },
  {
   "cell_type": "code",
   "execution_count": null,
   "metadata": {},
   "outputs": [],
   "source": [
    "%%prun -s cumulative -q -l 10 -T ../profile/extract_district_voronoi_wo_clipping\n",
    "araria_voronoi_joined = ovm.extract_district_voronoi_wo_clipping(india_voronoi_gpd, araria_gdf)"
   ]
  },
  {
   "cell_type": "code",
   "execution_count": null,
   "metadata": {},
   "outputs": [],
   "source": [
    "print(open('../profile/extract_district_voronoi_wo_clipping', 'r').read())"
   ]
  },
  {
   "cell_type": "code",
   "execution_count": null,
   "metadata": {},
   "outputs": [],
   "source": [
    "ovm.plot_district_voronoi(araria_voronoi_joined, \"Araria\")"
   ]
  },
  {
   "cell_type": "code",
   "execution_count": null,
   "metadata": {},
   "outputs": [],
   "source": [
    "#Read in the predictions for araria:\n",
    "araria_pred_file = os.environ.get(\"DATA_DIR\") + \"/osm/araria_results_plot.csv\" \n",
    "import pandas as pd \n",
    "araria_pred = pd.read_csv(araria_pred_file)"
   ]
  },
  {
   "cell_type": "code",
   "execution_count": null,
   "metadata": {},
   "outputs": [],
   "source": [
    "araria_pred.head()"
   ]
  },
  {
   "cell_type": "code",
   "execution_count": null,
   "metadata": {},
   "outputs": [],
   "source": [
    "araria_voronoi_joined.head()"
   ]
  },
  {
   "cell_type": "code",
   "execution_count": null,
   "metadata": {},
   "outputs": [],
   "source": [
    "araria_pred.shape, araria_voronoi_joined.shape"
   ]
  },
  {
   "cell_type": "code",
   "execution_count": null,
   "metadata": {},
   "outputs": [],
   "source": [
    "araria_merged = pd.merge(araria_pred, araria_voronoi_joined, on=\"DHSCLUST\")"
   ]
  },
  {
   "cell_type": "code",
   "execution_count": null,
   "metadata": {},
   "outputs": [],
   "source": [
    "araria_merged = araria_merged.drop(['DHSCC', 'DHSYEAR', 'LATNUM', 'LONGNUM', 'GID_2c', 'index_right', 'NAME_2'], axis=1)"
   ]
  },
  {
   "cell_type": "code",
   "execution_count": null,
   "metadata": {},
   "outputs": [],
   "source": [
    "araria_merged.head()"
   ]
  },
  {
   "cell_type": "code",
   "execution_count": null,
   "metadata": {},
   "outputs": [],
   "source": [
    "type(araria_merged)"
   ]
  },
  {
   "cell_type": "code",
   "execution_count": null,
   "metadata": {},
   "outputs": [],
   "source": [
    "araria_merged_gdf = gpd.GeoDataFrame(araria_merged)"
   ]
  },
  {
   "cell_type": "code",
   "execution_count": null,
   "metadata": {},
   "outputs": [],
   "source": [
    "#Araria plot real wealth with voronoi cells:\n",
    "import matplotlib.pyplot as plt \n",
    "import PyQt5\n",
    "import mapclassify as mc\n",
    "%matplotlib qt\n",
    "fig, ax = plt.subplots(1,1)\n",
    "araria_merged_gdf.plot(column='real', cmap='cubehelix', ax=ax, legend=True, legend_kwds={'label':'Real Wealth Distribution by DHS Cluster in Araria','orientation':\"horizontal\"})"
   ]
  },
  {
   "cell_type": "code",
   "execution_count": null,
   "metadata": {},
   "outputs": [],
   "source": [
    "fig1, ax1 = plt.subplots(1,1)\n",
    "araria_merged_gdf.plot(column='preds', cmap='cubehelix', ax=ax1, legend=True, legend_kwds={'label':'Predicted Wealth Distribution by DHS Cluster in Araria','orientation':\"horizontal\"})"
   ]
  },
  {
   "cell_type": "code",
   "execution_count": null,
   "metadata": {},
   "outputs": [],
   "source": []
  }
 ]
}